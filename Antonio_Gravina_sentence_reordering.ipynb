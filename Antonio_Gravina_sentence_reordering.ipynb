{
  "cells": [
    {
      "cell_type": "markdown",
      "metadata": {
        "id": "ElNaMbLnRdHR"
      },
      "source": [
        "# Sentence Reconstruction"
      ]
    },
    {
      "cell_type": "markdown",
      "metadata": {
        "id": "oXr4iGUGRms8"
      },
      "source": [
        "The purpose of this project is to take in input a sequence of words corresponding to a random permutation of a given english sentence, and reconstruct the original sentence.\n",
        "\n",
        "The otuput can be either produced in a single shot, or through an iterative (autoregressive) loop generating a single token at a time.\n",
        "\n",
        "\n",
        "CONSTRAINTS:\n",
        "* No pretrained model can be used.\n",
        "* The neural network models should have less the 20M parameters.\n",
        "* No postprocessing should be done (e.g. no beamsearch)\n",
        "* You cannot use additional training data.\n",
        "\n",
        "\n",
        "BONUS PARAMETERS:\n",
        "\n",
        "A bonus of 0-2 points will be attributed to incentivate the adoption of models with a low number of parameters."
      ]
    },
    {
      "cell_type": "markdown",
      "metadata": {
        "id": "iQ8k-L-WUK7l"
      },
      "source": [
        "# Dataset\n",
        "\n",
        "The dataset is composed by sentences taken from the generics_kb dataset of hugging face. We restricted the vocabolary to the 10K most frequent words, and only took sentences making use of this vocabulary."
      ]
    },
    {
      "cell_type": "code",
      "execution_count": 1,
      "metadata": {
        "colab": {
          "base_uri": "https://localhost:8080/"
        },
        "collapsed": true,
        "id": "nJ02vehGYySk",
        "outputId": "65e3f9d5-10ed-478d-9d4c-6bee72054576"
      },
      "outputs": [
        {
          "output_type": "stream",
          "name": "stdout",
          "text": [
            "Collecting datasets\n",
            "  Downloading datasets-2.19.2-py3-none-any.whl (542 kB)\n",
            "\u001b[2K     \u001b[90m━━━━━━━━━━━━━━━━━━━━━━━━━━━━━━━━━━━━━━━━\u001b[0m \u001b[32m542.1/542.1 kB\u001b[0m \u001b[31m7.5 MB/s\u001b[0m eta \u001b[36m0:00:00\u001b[0m\n",
            "\u001b[?25hRequirement already satisfied: filelock in /usr/local/lib/python3.10/dist-packages (from datasets) (3.14.0)\n",
            "Requirement already satisfied: numpy>=1.17 in /usr/local/lib/python3.10/dist-packages (from datasets) (1.25.2)\n",
            "Requirement already satisfied: pyarrow>=12.0.0 in /usr/local/lib/python3.10/dist-packages (from datasets) (14.0.2)\n",
            "Requirement already satisfied: pyarrow-hotfix in /usr/local/lib/python3.10/dist-packages (from datasets) (0.6)\n",
            "Collecting dill<0.3.9,>=0.3.0 (from datasets)\n",
            "  Downloading dill-0.3.8-py3-none-any.whl (116 kB)\n",
            "\u001b[2K     \u001b[90m━━━━━━━━━━━━━━━━━━━━━━━━━━━━━━━━━━━━━━━━\u001b[0m \u001b[32m116.3/116.3 kB\u001b[0m \u001b[31m8.3 MB/s\u001b[0m eta \u001b[36m0:00:00\u001b[0m\n",
            "\u001b[?25hRequirement already satisfied: pandas in /usr/local/lib/python3.10/dist-packages (from datasets) (2.0.3)\n",
            "Collecting requests>=2.32.1 (from datasets)\n",
            "  Downloading requests-2.32.3-py3-none-any.whl (64 kB)\n",
            "\u001b[2K     \u001b[90m━━━━━━━━━━━━━━━━━━━━━━━━━━━━━━━━━━━━━━━━\u001b[0m \u001b[32m64.9/64.9 kB\u001b[0m \u001b[31m8.6 MB/s\u001b[0m eta \u001b[36m0:00:00\u001b[0m\n",
            "\u001b[?25hRequirement already satisfied: tqdm>=4.62.1 in /usr/local/lib/python3.10/dist-packages (from datasets) (4.66.4)\n",
            "Collecting xxhash (from datasets)\n",
            "  Downloading xxhash-3.4.1-cp310-cp310-manylinux_2_17_x86_64.manylinux2014_x86_64.whl (194 kB)\n",
            "\u001b[2K     \u001b[90m━━━━━━━━━━━━━━━━━━━━━━━━━━━━━━━━━━━━━━━━\u001b[0m \u001b[32m194.1/194.1 kB\u001b[0m \u001b[31m9.9 MB/s\u001b[0m eta \u001b[36m0:00:00\u001b[0m\n",
            "\u001b[?25hCollecting multiprocess (from datasets)\n",
            "  Downloading multiprocess-0.70.16-py310-none-any.whl (134 kB)\n",
            "\u001b[2K     \u001b[90m━━━━━━━━━━━━━━━━━━━━━━━━━━━━━━━━━━━━━━━━\u001b[0m \u001b[32m134.8/134.8 kB\u001b[0m \u001b[31m8.4 MB/s\u001b[0m eta \u001b[36m0:00:00\u001b[0m\n",
            "\u001b[?25hRequirement already satisfied: fsspec[http]<=2024.3.1,>=2023.1.0 in /usr/local/lib/python3.10/dist-packages (from datasets) (2023.6.0)\n",
            "Requirement already satisfied: aiohttp in /usr/local/lib/python3.10/dist-packages (from datasets) (3.9.5)\n",
            "Requirement already satisfied: huggingface-hub>=0.21.2 in /usr/local/lib/python3.10/dist-packages (from datasets) (0.23.2)\n",
            "Requirement already satisfied: packaging in /usr/local/lib/python3.10/dist-packages (from datasets) (24.0)\n",
            "Requirement already satisfied: pyyaml>=5.1 in /usr/local/lib/python3.10/dist-packages (from datasets) (6.0.1)\n",
            "Requirement already satisfied: aiosignal>=1.1.2 in /usr/local/lib/python3.10/dist-packages (from aiohttp->datasets) (1.3.1)\n",
            "Requirement already satisfied: attrs>=17.3.0 in /usr/local/lib/python3.10/dist-packages (from aiohttp->datasets) (23.2.0)\n",
            "Requirement already satisfied: frozenlist>=1.1.1 in /usr/local/lib/python3.10/dist-packages (from aiohttp->datasets) (1.4.1)\n",
            "Requirement already satisfied: multidict<7.0,>=4.5 in /usr/local/lib/python3.10/dist-packages (from aiohttp->datasets) (6.0.5)\n",
            "Requirement already satisfied: yarl<2.0,>=1.0 in /usr/local/lib/python3.10/dist-packages (from aiohttp->datasets) (1.9.4)\n",
            "Requirement already satisfied: async-timeout<5.0,>=4.0 in /usr/local/lib/python3.10/dist-packages (from aiohttp->datasets) (4.0.3)\n",
            "Requirement already satisfied: typing-extensions>=3.7.4.3 in /usr/local/lib/python3.10/dist-packages (from huggingface-hub>=0.21.2->datasets) (4.12.1)\n",
            "Requirement already satisfied: charset-normalizer<4,>=2 in /usr/local/lib/python3.10/dist-packages (from requests>=2.32.1->datasets) (3.3.2)\n",
            "Requirement already satisfied: idna<4,>=2.5 in /usr/local/lib/python3.10/dist-packages (from requests>=2.32.1->datasets) (3.7)\n",
            "Requirement already satisfied: urllib3<3,>=1.21.1 in /usr/local/lib/python3.10/dist-packages (from requests>=2.32.1->datasets) (2.0.7)\n",
            "Requirement already satisfied: certifi>=2017.4.17 in /usr/local/lib/python3.10/dist-packages (from requests>=2.32.1->datasets) (2024.6.2)\n",
            "Requirement already satisfied: python-dateutil>=2.8.2 in /usr/local/lib/python3.10/dist-packages (from pandas->datasets) (2.8.2)\n",
            "Requirement already satisfied: pytz>=2020.1 in /usr/local/lib/python3.10/dist-packages (from pandas->datasets) (2023.4)\n",
            "Requirement already satisfied: tzdata>=2022.1 in /usr/local/lib/python3.10/dist-packages (from pandas->datasets) (2024.1)\n",
            "Requirement already satisfied: six>=1.5 in /usr/local/lib/python3.10/dist-packages (from python-dateutil>=2.8.2->pandas->datasets) (1.16.0)\n",
            "Installing collected packages: xxhash, requests, dill, multiprocess, datasets\n",
            "  Attempting uninstall: requests\n",
            "    Found existing installation: requests 2.31.0\n",
            "    Uninstalling requests-2.31.0:\n",
            "      Successfully uninstalled requests-2.31.0\n",
            "\u001b[31mERROR: pip's dependency resolver does not currently take into account all the packages that are installed. This behaviour is the source of the following dependency conflicts.\n",
            "google-colab 1.0.0 requires requests==2.31.0, but you have requests 2.32.3 which is incompatible.\u001b[0m\u001b[31m\n",
            "\u001b[0mSuccessfully installed datasets-2.19.2 dill-0.3.8 multiprocess-0.70.16 requests-2.32.3 xxhash-3.4.1\n"
          ]
        }
      ],
      "source": [
        "!pip install datasets"
      ]
    },
    {
      "cell_type": "code",
      "execution_count": 2,
      "metadata": {
        "colab": {
          "base_uri": "https://localhost:8080/"
        },
        "id": "HKntF9du2oL7",
        "outputId": "0f5ca322-53ba-430e-f6a7-f15b439e14cf"
      },
      "outputs": [
        {
          "output_type": "stream",
          "name": "stdout",
          "text": [
            "Requirement already satisfied: keras in /usr/local/lib/python3.10/dist-packages (2.15.0)\n",
            "Collecting keras\n",
            "  Downloading keras-3.3.3-py3-none-any.whl (1.1 MB)\n",
            "\u001b[2K     \u001b[90m━━━━━━━━━━━━━━━━━━━━━━━━━━━━━━━━━━━━━━━━\u001b[0m \u001b[32m1.1/1.1 MB\u001b[0m \u001b[31m9.4 MB/s\u001b[0m eta \u001b[36m0:00:00\u001b[0m\n",
            "\u001b[?25hRequirement already satisfied: absl-py in /usr/local/lib/python3.10/dist-packages (from keras) (1.4.0)\n",
            "Requirement already satisfied: numpy in /usr/local/lib/python3.10/dist-packages (from keras) (1.25.2)\n",
            "Requirement already satisfied: rich in /usr/local/lib/python3.10/dist-packages (from keras) (13.7.1)\n",
            "Collecting namex (from keras)\n",
            "  Downloading namex-0.0.8-py3-none-any.whl (5.8 kB)\n",
            "Requirement already satisfied: h5py in /usr/local/lib/python3.10/dist-packages (from keras) (3.9.0)\n",
            "Collecting optree (from keras)\n",
            "  Downloading optree-0.11.0-cp310-cp310-manylinux_2_17_x86_64.manylinux2014_x86_64.whl (311 kB)\n",
            "\u001b[2K     \u001b[90m━━━━━━━━━━━━━━━━━━━━━━━━━━━━━━━━━━━━━━━━\u001b[0m \u001b[32m311.2/311.2 kB\u001b[0m \u001b[31m13.1 MB/s\u001b[0m eta \u001b[36m0:00:00\u001b[0m\n",
            "\u001b[?25hRequirement already satisfied: ml-dtypes in /usr/local/lib/python3.10/dist-packages (from keras) (0.2.0)\n",
            "Requirement already satisfied: typing-extensions>=4.0.0 in /usr/local/lib/python3.10/dist-packages (from optree->keras) (4.12.1)\n",
            "Requirement already satisfied: markdown-it-py>=2.2.0 in /usr/local/lib/python3.10/dist-packages (from rich->keras) (3.0.0)\n",
            "Requirement already satisfied: pygments<3.0.0,>=2.13.0 in /usr/local/lib/python3.10/dist-packages (from rich->keras) (2.16.1)\n",
            "Requirement already satisfied: mdurl~=0.1 in /usr/local/lib/python3.10/dist-packages (from markdown-it-py>=2.2.0->rich->keras) (0.1.2)\n",
            "Installing collected packages: namex, optree, keras\n",
            "  Attempting uninstall: keras\n",
            "    Found existing installation: keras 2.15.0\n",
            "    Uninstalling keras-2.15.0:\n",
            "      Successfully uninstalled keras-2.15.0\n",
            "\u001b[31mERROR: pip's dependency resolver does not currently take into account all the packages that are installed. This behaviour is the source of the following dependency conflicts.\n",
            "tensorflow 2.15.0 requires keras<2.16,>=2.15.0, but you have keras 3.3.3 which is incompatible.\u001b[0m\u001b[31m\n",
            "\u001b[0mSuccessfully installed keras-3.3.3 namex-0.0.8 optree-0.11.0\n"
          ]
        }
      ],
      "source": [
        "!pip install --upgrade keras"
      ]
    },
    {
      "cell_type": "markdown",
      "metadata": {
        "id": "807Wk-ir_bDU"
      },
      "source": [
        "Download the dataset"
      ]
    },
    {
      "cell_type": "code",
      "execution_count": 3,
      "metadata": {
        "id": "_WjtqA8TrHcS",
        "colab": {
          "base_uri": "https://localhost:8080/",
          "height": 274,
          "referenced_widgets": [
            "5b40a10127824fb2bcb60253b1569e3e",
            "dae942dc434d4f74936286288f1b56de",
            "c5f7b8c8fa3440fd8429cd378f4ac787",
            "dd5f3b34aaab462797552358a8ae3cdf",
            "dea8e9d2d2764df0b6add03ae6450834",
            "5c788c25f31643c6b8bb3888e2ea83df",
            "d9575bf33fc641f6b546c77b44caf5ff",
            "5e833bcd191547c99d3dd24eea312c43",
            "b6f6970734ba431da1993280d6f1a223",
            "3a34a49ae09d458eb1765a410fe618d7",
            "7c2ae44e9daf434da5717da278929cd2",
            "c66cf9facac2460e91443560d52844f3",
            "80df274021614433879061250e8bc95e",
            "f5b7e34abb294a76a629e4af3d4da8a5",
            "30336c8477d0469484c1818033880575",
            "8d0d11125b7145e8ad0b0bde6c6bec42",
            "41bd5b753d6440b682dab3d6ee3bb8e8",
            "50134a7e6a1a4b26accd95379bfb4b25",
            "aa31e31010244f02a393af469093829a",
            "de6173458ad5481aa6c93b761aac717a",
            "bd28ab42b7be4441ade29d3512399a41",
            "b4f5fc001d754bd99b3d0881fffa82c3",
            "ee7b1c78998d412885b865b9b7583374",
            "c6b49dedc47c4d8f86ccdd1f1e92a86b",
            "1720eca2fc664523a41c53471021c925",
            "4456b688848e4fb68aa5abbc2eacc4a5",
            "1ab59e0663684f6d947604a1561dabfc",
            "d3962c979a1e4b258d005188e5ec5736",
            "0448ef870b364e399bbc3e0c9fa84175",
            "06dc91e3d3764980b7897c5bbd2affdd",
            "f75ad6c5abec418c95b0fdd69d17e74d",
            "c09f1308b8714dacb87e2d1b0eb5cc00",
            "0d549efd8ee145599c7692b3c003ee54",
            "6ea43fae9d3942ed861dfbd132978411",
            "88e468b0766a4df1b6763d3bd658e8fa",
            "ec7c51d66cfd43459743bdeca868ab20",
            "a6c96f3a0652419da5ed9155b705494c",
            "23ff7d45baa04adba7b1967997e9cea4",
            "6f97e3abc16e4e81a9710824ca20a4f0",
            "153bcd88c8b443628d1118b0435a0df4",
            "6ec84ef787c04411aab0b25c0ac036f8",
            "6a5d60f43c10456b8dbe113eacb142cf",
            "4a6382932fe84dd2bc4438c150cacfd6",
            "561b943aca28449c826ee3b90313d952"
          ]
        },
        "outputId": "a668f734-dc52-4139-ccf3-f8a84dbdbb69"
      },
      "outputs": [
        {
          "output_type": "stream",
          "name": "stderr",
          "text": [
            "/usr/local/lib/python3.10/dist-packages/huggingface_hub/utils/_token.py:89: UserWarning: \n",
            "The secret `HF_TOKEN` does not exist in your Colab secrets.\n",
            "To authenticate with the Hugging Face Hub, create a token in your settings tab (https://huggingface.co/settings/tokens), set it as secret in your Google Colab and restart your session.\n",
            "You will be able to reuse this secret in all of your notebooks.\n",
            "Please note that authentication is recommended but still optional to access public models or datasets.\n",
            "  warnings.warn(\n"
          ]
        },
        {
          "output_type": "display_data",
          "data": {
            "text/plain": [
              "Downloading builder script:   0%|          | 0.00/8.64k [00:00<?, ?B/s]"
            ],
            "application/vnd.jupyter.widget-view+json": {
              "version_major": 2,
              "version_minor": 0,
              "model_id": "5b40a10127824fb2bcb60253b1569e3e"
            }
          },
          "metadata": {}
        },
        {
          "output_type": "display_data",
          "data": {
            "text/plain": [
              "Downloading readme:   0%|          | 0.00/11.9k [00:00<?, ?B/s]"
            ],
            "application/vnd.jupyter.widget-view+json": {
              "version_major": 2,
              "version_minor": 0,
              "model_id": "c66cf9facac2460e91443560d52844f3"
            }
          },
          "metadata": {}
        },
        {
          "output_type": "display_data",
          "data": {
            "text/plain": [
              "Downloading data:   0%|          | 0.00/27.1M [00:00<?, ?B/s]"
            ],
            "application/vnd.jupyter.widget-view+json": {
              "version_major": 2,
              "version_minor": 0,
              "model_id": "ee7b1c78998d412885b865b9b7583374"
            }
          },
          "metadata": {}
        },
        {
          "output_type": "display_data",
          "data": {
            "text/plain": [
              "Generating train split:   0%|          | 0/1020868 [00:00<?, ? examples/s]"
            ],
            "application/vnd.jupyter.widget-view+json": {
              "version_major": 2,
              "version_minor": 0,
              "model_id": "6ea43fae9d3942ed861dfbd132978411"
            }
          },
          "metadata": {}
        }
      ],
      "source": [
        "from datasets import load_dataset\n",
        "from keras.layers import TextVectorization\n",
        "import tensorflow as tf\n",
        "import numpy as np\n",
        "np.random.seed(42)\n",
        "ds = load_dataset('generics_kb',trust_remote_code=True)['train']"
      ]
    },
    {
      "cell_type": "markdown",
      "metadata": {
        "id": "lAVLfsdc_ej5"
      },
      "source": [
        "Filter row with length greater than 8.\n"
      ]
    },
    {
      "cell_type": "code",
      "execution_count": 4,
      "metadata": {
        "id": "iznq8xGNt2Zr",
        "colab": {
          "base_uri": "https://localhost:8080/",
          "height": 49,
          "referenced_widgets": [
            "859f7b661ae54af2bf9afbf00ef4e4da",
            "e404073519ae4b66aac86942e587f2a1",
            "611819ec01af4e2ca8e59bdf6e3d5858",
            "7647cca864854c41b237cb0cc41447be",
            "c4a06d1c806844c2851bc715bd2f77b9",
            "0a8a21e52fa648739497e867d46c4850",
            "c38440a8372d41c580509a7776da776b",
            "9b26e95ea1f745008a79a83d4e523051",
            "d9c0fb9533cd448f948ac77eee265f27",
            "8a7d8e035cfd4ec6ba763c2d535433b2",
            "34a60b2cc8a649378c6f4d2aa49dbc52"
          ]
        },
        "outputId": "3080e0b1-a283-4334-9a64-ecb496e127c3"
      },
      "outputs": [
        {
          "output_type": "display_data",
          "data": {
            "text/plain": [
              "Filter:   0%|          | 0/1020868 [00:00<?, ? examples/s]"
            ],
            "application/vnd.jupyter.widget-view+json": {
              "version_major": 2,
              "version_minor": 0,
              "model_id": "859f7b661ae54af2bf9afbf00ef4e4da"
            }
          },
          "metadata": {}
        }
      ],
      "source": [
        "ds = ds.filter(lambda row: len(row[\"generic_sentence\"].split(\" \")) > 8 )\n",
        "corpus = [ '<start> ' + row['generic_sentence'].replace(\",\",\" <comma>\") + ' <end>' for row in ds ]\n",
        "corpus = np.array(corpus)\n"
      ]
    },
    {
      "cell_type": "markdown",
      "metadata": {
        "id": "FyYpXLCF_ldR"
      },
      "source": [
        "Create a tokenizer and Detokenizer"
      ]
    },
    {
      "cell_type": "code",
      "execution_count": 5,
      "metadata": {
        "collapsed": true,
        "id": "T-bE2JpVbU9E"
      },
      "outputs": [],
      "source": [
        "tokenizer=TextVectorization( max_tokens=10000, standardize=\"lower_and_strip_punctuation\", encoding=\"utf-8\",) #con il max prende le piu frequenti. ordina i token del vocab dal piu frequente al meno frequente\n",
        "tokenizer.adapt(corpus)\n",
        "\n",
        "class TextDetokenizer:\n",
        "    def __init__(self, vectorize_layer):\n",
        "        self.vectorize_layer = vectorize_layer\n",
        "        vocab = self.vectorize_layer.get_vocabulary()\n",
        "        self.index_to_word = {index: word for index, word in enumerate(vocab)}\n",
        "\n",
        "    def __detokenize_tokens(self, tokens):\n",
        "        def check_token(t):\n",
        "          if t == 3:\n",
        "            s=\"<start>\"\n",
        "          elif t == 2:\n",
        "            s=\"<end>\"\n",
        "          elif t == 7:\n",
        "            s=\"<comma>\"\n",
        "          else:\n",
        "            s=self.index_to_word.get(t, '[UNK]')\n",
        "          return s\n",
        "\n",
        "        return ' '.join([ check_token(token) for token in tokens if token != 0])\n",
        "\n",
        "    def __call__(self, batch_tokens):\n",
        "       return [self.__detokenize_tokens(tokens) for tokens in batch_tokens]\n",
        "\n",
        "\n",
        "detokenizer = TextDetokenizer( tokenizer )\n",
        "sentences = tokenizer( corpus ).numpy()"
      ]
    },
    {
      "cell_type": "markdown",
      "metadata": {
        "id": "lZ64sns1_pSK"
      },
      "source": [
        "Remove from corpus the sentences where any unknow word appears"
      ]
    },
    {
      "cell_type": "code",
      "execution_count": 6,
      "metadata": {
        "id": "2LPQtryQz5wh"
      },
      "outputs": [],
      "source": [
        "mask = np.sum( (sentences==1), axis=1) >= 1\n",
        "original_data = np.delete( sentences, mask , axis=0)"
      ]
    },
    {
      "cell_type": "code",
      "execution_count": 7,
      "metadata": {
        "colab": {
          "base_uri": "https://localhost:8080/"
        },
        "id": "qYfOscVk7U0r",
        "outputId": "880f60af-4c02-4124-96ed-af50ac302ad8"
      },
      "outputs": [
        {
          "output_type": "execute_result",
          "data": {
            "text/plain": [
              "(241236, 28)"
            ]
          },
          "metadata": {},
          "execution_count": 7
        }
      ],
      "source": [
        "original_data.shape"
      ]
    },
    {
      "cell_type": "markdown",
      "metadata": {
        "id": "5puiiQ2D_uxa"
      },
      "source": [
        "Shuffle the sentences"
      ]
    },
    {
      "cell_type": "code",
      "execution_count": 8,
      "metadata": {
        "id": "1ZXLkWB6od0R"
      },
      "outputs": [],
      "source": [
        "from tensorflow.keras.utils import PyDataset\n",
        "\n",
        "class DataGenerator(PyDataset):\n",
        "    def __init__(self, data, batch_size=32, shuffle=True, seed=42):\n",
        "        self.data = data\n",
        "        self.batch_size = batch_size\n",
        "        self.shuffle = shuffle\n",
        "        self.seed = seed\n",
        "        self.on_epoch_end()\n",
        "\n",
        "\n",
        "    def __len__(self):\n",
        "        return int(np.floor(len(self.data) / self.batch_size))\n",
        "\n",
        "    def __getitem__(self, index):\n",
        "        indexes = self.indexes[index*self.batch_size:(index+1)*self.batch_size]\n",
        "\n",
        "        data_batch = np.array([self.data[k] for k in indexes])\n",
        "        #copy of ordered sequences\n",
        "        result = np.copy(data_batch)\n",
        "        #shuffle only the relevant positions for each batch\n",
        "        for i in range(data_batch.shape[0]):\n",
        "          np.random.shuffle(data_batch[i,1:data_batch[i].argmin() - 1])\n",
        "\n",
        "        return data_batch , result\n",
        "\n",
        "    def on_epoch_end(self):\n",
        "        self.indexes = np.arange(len(self.data))\n",
        "        if self.shuffle:\n",
        "            if self.seed is not None:\n",
        "                np.random.seed(self.seed)\n",
        "            np.random.shuffle(self.indexes)"
      ]
    },
    {
      "cell_type": "code",
      "execution_count": 9,
      "metadata": {
        "id": "fNo_Jy3N8zHS"
      },
      "outputs": [],
      "source": [
        "# Make a random permutation of training and test set\n",
        "np.random.seed(42)\n",
        "# Shuffle the all data\n",
        "shuffled_indices = np.random.permutation(len(original_data))\n",
        "shuffled_data = original_data[shuffled_indices]"
      ]
    },
    {
      "cell_type": "code",
      "execution_count": 10,
      "metadata": {
        "id": "uNlq1Khx1oH2"
      },
      "outputs": [],
      "source": [
        "#split the dataset\n",
        "train_generator = DataGenerator(shuffled_data[:220000])\n",
        "test_generator = DataGenerator(shuffled_data[220000:])"
      ]
    },
    {
      "cell_type": "code",
      "execution_count": 11,
      "metadata": {
        "colab": {
          "base_uri": "https://localhost:8080/"
        },
        "id": "qR5xwMOn4E88",
        "outputId": "0d98dd7f-87f5-479f-deac-c5e0786004b0"
      },
      "outputs": [
        {
          "output_type": "stream",
          "name": "stdout",
          "text": [
            "original:  <start> ranchers clear large areas of rainforest to become pastures for their cattle <end>\n",
            "shuffled:  <start> large their areas for cattle ranchers rainforest clear pastures become to of <end>\n",
            "\n",
            "\n",
            "original:  <start> some earwigs have stripes on the thorax and abdomen <end>\n",
            "shuffled:  <start> stripes thorax some and the earwigs on abdomen have <end>\n",
            "\n",
            "\n",
            "original:  <start> magnetic manipulation can turn molecules in a liquid into computing such devices <end>\n",
            "shuffled:  <start> into in magnetic such a liquid molecules can manipulation computing turn devices <end>\n",
            "\n",
            "\n",
            "original:  <start> healthy wetlands means cleaner water <comma> reduced flooding and more places for recreation <end>\n",
            "shuffled:  <start> reduced wetlands and recreation for water places healthy cleaner flooding <comma> means more <end>\n",
            "\n",
            "\n",
            "original:  <start> market share is the percent share in sales one company controls in a particular market <end>\n",
            "shuffled:  <start> company percent share one controls a sales in market is share the particular in market <end>\n",
            "\n",
            "\n",
            "original:  <start> face flies spend only a small amount of time on the animal <end>\n",
            "shuffled:  <start> of on animal only a the small flies time amount spend face <end>\n",
            "\n",
            "\n",
            "original:  <start> organic foods are extremely important in prevention and management of cancer <end>\n",
            "shuffled:  <start> extremely management in of foods are prevention and cancer important organic <end>\n",
            "\n",
            "\n"
          ]
        }
      ],
      "source": [
        "x, y = test_generator.__getitem__(1)\n",
        "x = detokenizer(x)\n",
        "y = detokenizer(y)\n",
        "\n",
        "for i in range(7):\n",
        "  print(\"original: \", y[i])\n",
        "  print(\"shuffled: \", x[i])\n",
        "  print(\"\\n\")\n"
      ]
    },
    {
      "cell_type": "markdown",
      "metadata": {
        "id": "Fo8MazCGBTv3"
      },
      "source": [
        "# Metrics"
      ]
    },
    {
      "cell_type": "markdown",
      "metadata": {
        "id": "G0NOkuO0CfPo"
      },
      "source": [
        "Let s be the source string and p your prediction. The quality of the results will be measured according to the following metric:\n",
        "\n",
        "1.  look for the longest substring w between s and p\n",
        "2.  compute |w|/max(|s|,|p|)\n",
        "\n",
        "If the match is exact, the score is 1.\n",
        "\n",
        "When computing the score, you should NOT consider the start and end tokens.\n",
        "\n"
      ]
    },
    {
      "cell_type": "markdown",
      "metadata": {
        "id": "a-aUrdlXDdVf"
      },
      "source": [
        "The longest common substring can be computed with the SequenceMatcher function of difflib, that allows a simple definition of our metric."
      ]
    },
    {
      "cell_type": "code",
      "execution_count": 12,
      "metadata": {
        "id": "ulpTRdrF_huh"
      },
      "outputs": [],
      "source": [
        "from difflib import SequenceMatcher\n",
        "\n",
        "def score(s,p):\n",
        "  match = SequenceMatcher(None, s, p).find_longest_match()\n",
        "  #print(match.size)\n",
        "  return (match.size/max(len(p),len(s)))"
      ]
    },
    {
      "cell_type": "markdown",
      "metadata": {
        "id": "RB2YfjXNExM-"
      },
      "source": [
        "Let's do an example."
      ]
    },
    {
      "cell_type": "code",
      "execution_count": 13,
      "metadata": {
        "colab": {
          "base_uri": "https://localhost:8080/"
        },
        "id": "h17C8bVjEwur",
        "outputId": "51464be4-a514-452e-b12a-a18817ea0913"
      },
      "outputs": [
        {
          "output_type": "stream",
          "name": "stdout",
          "text": [
            "your score is  0.5423728813559322\n"
          ]
        }
      ],
      "source": [
        "original = \"at first henry wanted to be friends with the king of france\"\n",
        "generated = \"henry wanted to be friends with king of france at the first\"\n",
        "\n",
        "print(\"your score is \",score(original,generated))"
      ]
    },
    {
      "cell_type": "markdown",
      "metadata": {
        "id": "BET8GqBvFugR"
      },
      "source": [
        "The score must be computed as an average of at least 3K random examples taken form the test set."
      ]
    },
    {
      "cell_type": "markdown",
      "metadata": {
        "id": "4fwo7xj4GBW1"
      },
      "source": [
        "# What to deliver"
      ]
    },
    {
      "cell_type": "markdown",
      "metadata": {
        "id": "i6uITuxOGHfJ"
      },
      "source": [
        "You are supposed to deliver a single notebook, suitably commented.\n",
        "The notebook should describe a single model, although you may briefly discuss additional attempts you did.\n",
        "\n",
        "The notebook should contain a full trace of the training.\n",
        "Weights should be made available on request.\n",
        "\n",
        "You must also give a clear assesment of the performance of the model, computed with the metric that has been given to you.\n",
        "\n",
        "# Good work!"
      ]
    },
    {
      "cell_type": "markdown",
      "source": [
        "---"
      ],
      "metadata": {
        "id": "I77z4QutpKKZ"
      }
    },
    {
      "cell_type": "markdown",
      "source": [
        "# Import of the modules"
      ],
      "metadata": {
        "id": "VNCMFIjnsFDD"
      }
    },
    {
      "cell_type": "code",
      "source": [
        "import tensorflow as tf\n",
        "import matplotlib.pyplot as plt"
      ],
      "metadata": {
        "id": "pPBdv4dMsIOx"
      },
      "execution_count": 14,
      "outputs": []
    },
    {
      "cell_type": "markdown",
      "source": [
        "# Initializing Data Generators and Calculating Test Batches\n",
        "\n",
        "To prepare the data for training and testing, I start by creating data generators. For the training data, I use the first 220000 samples from `original_data` and set up a `train_generator` with a batch size of `32`. This means each batch will contain 32 samples, which is a good size for efficient training.\n",
        "\n",
        "For the test data, I use the remaining samples, starting from sample 220000 to the end, and create a `test_generator`, also with a batch size of 32. This keeps the batch sizes consistent across training and testing.\n",
        "\n",
        "Next, I need to calculate the number of test batches. I do this by dividing the number of test samples by 32 and rounding up to ensure all samples are included. This calculation gives `TEST_BATCHES`, which tells the total number of batches processed during testing."
      ],
      "metadata": {
        "id": "2bxdlrQATBDg"
      }
    },
    {
      "cell_type": "code",
      "source": [
        "train_generator = DataGenerator(original_data[:220000], batch_size=32)\n",
        "test_generator = DataGenerator(original_data[220000:], batch_size=32)\n",
        "TEST_BATCHES = round((original_data.shape[0]-220000)/32)"
      ],
      "metadata": {
        "id": "Ml9eJNFlkpoH"
      },
      "execution_count": 15,
      "outputs": []
    },
    {
      "cell_type": "markdown",
      "metadata": {
        "id": "xTVgCp8976tK"
      },
      "source": [
        "# Creation of the model"
      ]
    },
    {
      "cell_type": "markdown",
      "source": [
        "For the task of taking a sentence with shuffled words and returning it in the correct order, a Transformer model is a good choice, because transformers can capture long-range dependencies and relationships between words, regardless of their position in the sentence, due to the mechanism of attention. This is crucial for understanding the context and meaning in a sentence where word order is scrambled.\n"
      ],
      "metadata": {
        "id": "tsvGPcgoUStx"
      }
    },
    {
      "cell_type": "markdown",
      "metadata": {
        "id": "If9LX6q-8AQt"
      },
      "source": [
        "# Transformer Encoder\n"
      ]
    },
    {
      "cell_type": "markdown",
      "source": [
        "The Encoder has the following structure.\n",
        "\n",
        "**Embedding Layers**: Initially, the encoder transforms each word in the input sentence into dense vectors using two embedding layers: `token_embed`, representing the semantic meaning, and `position_embed`, which incorporates positional information into the embeddings, ensuring the model understands the order of words in the sentence.\n",
        "\n",
        "**Multi-Head Attention Layers**: The encoder employs two layers of multi-head attention mechanisms (`multihead_attention1` and `multihead_attention2`). Following each attention layer, normalization layers (`norm_layer1` and `norm_layer2`) stabilize and optimize the output for efficient training.\n",
        "\n",
        "**Feed-Forward Network**: After the attention layers, the encoder utilizes a feed-forward network (`feed_forward`) to further process the data. In particular, it has two `Dense` layers and also two `Dropout` layers, to reduce overfitting. The output is then normalized by `norm_layer3` to ensure consistency and stability.\n",
        "\n",
        "**Call Method**: It applies in sequence the layers described above.\n"
      ],
      "metadata": {
        "id": "VRU_ICVbVeem"
      }
    },
    {
      "cell_type": "code",
      "execution_count": 16,
      "metadata": {
        "id": "OxawHPkOkmEx"
      },
      "outputs": [],
      "source": [
        "class Encoder(tf.keras.layers.Layer):\n",
        "    def __init__(self, num_heads_1, num_heads_2, ff_size, embed_size):\n",
        "        super().__init__()\n",
        "        self.token_embed = tf.keras.layers.Embedding(input_dim=LEN_VOC, output_dim=embed_size)\n",
        "        self.position_embed = tf.keras.layers.Embedding(input_dim=embed_size, output_dim=embed_size)\n",
        "\n",
        "        self.multihead_attention1 = tf.keras.layers.MultiHeadAttention(num_heads=num_heads_1, key_dim=embed_size)\n",
        "        self.norm_layer1 = tf.keras.layers.LayerNormalization(epsilon=1e-6)\n",
        "\n",
        "        self.multihead_attention2 = tf.keras.layers.MultiHeadAttention(num_heads=num_heads_2, key_dim=embed_size)\n",
        "        self.norm_layer2 = tf.keras.layers.LayerNormalization(epsilon=1e-6)\n",
        "\n",
        "        self.feed_forward = tf.keras.Sequential([\n",
        "            tf.keras.layers.Dense(ff_size, activation=\"relu\"),\n",
        "            tf.keras.layers.Dropout(0.1),\n",
        "            tf.keras.layers.Dense(embed_size),\n",
        "            tf.keras.layers.Dropout(0.1),\n",
        "        ])\n",
        "        self.norm_layer3 = tf.keras.layers.LayerNormalization(epsilon=1e-6)\n",
        "\n",
        "    def call(self, inputs, training=False):\n",
        "        sequence_input = inputs\n",
        "        seq_length = tf.shape(sequence_input)[-1]\n",
        "        pos_indices = tf.range(start=0, limit=seq_length, delta=1)\n",
        "        pos_embed = self.position_embed(pos_indices)\n",
        "        tok_embed = self.token_embed(sequence_input)\n",
        "        combined_embed = tok_embed + pos_embed\n",
        "\n",
        "        attn_output1 = self.multihead_attention1(combined_embed, combined_embed)\n",
        "        norm_output1 = self.norm_layer1(combined_embed + attn_output1)\n",
        "\n",
        "        attn_output2 = self.multihead_attention2(norm_output1, norm_output1)\n",
        "        norm_output2 = self.norm_layer2(norm_output1 + attn_output2)\n",
        "\n",
        "        ffn_output = self.feed_forward(norm_output2, training=training)\n",
        "        final_output = self.norm_layer3(norm_output2 + ffn_output)\n",
        "\n",
        "        return final_output"
      ]
    },
    {
      "cell_type": "markdown",
      "metadata": {
        "id": "R3whFryPrBfP"
      },
      "source": [
        "# Decoder\n"
      ]
    },
    {
      "cell_type": "markdown",
      "source": [
        "The Decoder has the following structure.\n",
        "\n",
        "**Embedding Layers**: The Decoder starts by embedding each word in the input sequence into dense vectors using two embedding layers (the same as the Encoder).\n",
        "\n",
        "**Masked Multi-Head Attention Layer**: The Decoder utilizes a masked multi-head attention mechanism named `masked_attention` to prevent attending to future tokens during training. This layer helps the model generate each word in the output sequence by considering only the previously generated tokens.\n",
        "\n",
        "**Multi-Head Attention Layers**: The Decoder employs two layers of multi-head attention mechanisms (`multihead_attention1` and `multihead_attention2`). Each multi-head attention layer is followed by a normalization layer (`norm_layer1`, `norm_layer2`, and `norm_layer3`) to stabilize and optimize the output.\n",
        "\n",
        "**Feed-Forward Network**: After the attention layers, the Decoder applies a feed-forward network (`feed_forward`) to further process the data. Like the Encoder, it also uses the dropout strategy. The output is then normalized by `norm_layer4` to ensure consistency and stability.\n",
        "\n",
        "**Call Method**: It applies in sequence the layers described above.\n"
      ],
      "metadata": {
        "id": "chj7ejkUXXG0"
      }
    },
    {
      "cell_type": "code",
      "execution_count": 17,
      "metadata": {
        "id": "5hvmCnfDoRFX"
      },
      "outputs": [],
      "source": [
        "class Decoder(tf.keras.layers.Layer):\n",
        "        def __init__(self, num_heads_1, num_heads_2, ff_size, embed_size):\n",
        "            super().__init__()\n",
        "            self.token_embed = tf.keras.layers.Embedding(input_dim=LEN_VOC, output_dim=embed_size)\n",
        "            self.position_embed = tf.keras.layers.Embedding(input_dim=embed_size, output_dim=embed_size)\n",
        "\n",
        "            self.masked_attention = tf.keras.layers.MultiHeadAttention(num_heads=num_heads_1, key_dim=embed_size)\n",
        "            self.norm_layer1 = tf.keras.layers.LayerNormalization(epsilon=1e-6)\n",
        "\n",
        "            self.multihead_attention1 = tf.keras.layers.MultiHeadAttention(num_heads=num_heads_1, key_dim=embed_size)\n",
        "            self.norm_layer2 = tf.keras.layers.LayerNormalization(epsilon=1e-6)\n",
        "\n",
        "            self.multihead_attention2 = tf.keras.layers.MultiHeadAttention(num_heads=num_heads_2, key_dim=embed_size)\n",
        "            self.norm_layer3 = tf.keras.layers.LayerNormalization(epsilon=1e-6)\n",
        "\n",
        "            self.feed_forward = tf.keras.Sequential([\n",
        "                tf.keras.layers.Dense(ff_size, activation=\"relu\"),\n",
        "                tf.keras.layers.Dropout(0.1),\n",
        "                tf.keras.layers.Dense(embed_size),\n",
        "                tf.keras.layers.Dropout(0.1),\n",
        "            ])\n",
        "            self.norm_layer4 = tf.keras.layers.LayerNormalization(epsilon=1e-6)\n",
        "\n",
        "        def call(self, inputs, encoder_output, training=False):\n",
        "            sequence_input = inputs\n",
        "            seq_length = tf.shape(sequence_input)[-1]\n",
        "            pos_indices = tf.range(start=0, limit=seq_length, delta=1)\n",
        "            pos_embed = self.position_embed(pos_indices)\n",
        "            tok_embed = self.token_embed(sequence_input)\n",
        "            combined_embed = tok_embed + pos_embed\n",
        "\n",
        "            masked_attn_output = self.masked_attention(combined_embed, combined_embed, use_causal_mask=True)\n",
        "            norm_output1 = self.norm_layer1(combined_embed + masked_attn_output)\n",
        "\n",
        "            attn_output1 = self.multihead_attention1(norm_output1, encoder_output)\n",
        "            norm_output2 = self.norm_layer2(norm_output1 + attn_output1)\n",
        "\n",
        "            attn_output2 = self.multihead_attention2(norm_output2, encoder_output)\n",
        "            norm_output3 = self.norm_layer3(norm_output2 + attn_output2)\n",
        "\n",
        "            ffn_output = self.feed_forward(norm_output3, training=training)\n",
        "            final_output = self.norm_layer4(norm_output3 + ffn_output)\n",
        "\n",
        "            return final_output"
      ]
    },
    {
      "cell_type": "markdown",
      "metadata": {
        "id": "OXDmjxuMuf1f"
      },
      "source": [
        "# Transformer"
      ]
    },
    {
      "cell_type": "markdown",
      "source": [
        "The Transformer is made of the `Encoder`, the `Decoder` and the output layer, which uses the `softmax` activation function. This is because I want to convert the raw output scores into a probability distribution over the output vocabulary. Each element of the distribution represents the likelihood of a particular token being the next word in the sequence."
      ],
      "metadata": {
        "id": "UETtgL_DY2YG"
      }
    },
    {
      "cell_type": "code",
      "execution_count": 18,
      "metadata": {
        "id": "fY-ILdAstWdU"
      },
      "outputs": [],
      "source": [
        "class Transformer(tf.keras.layers.Layer):\n",
        "    def __init__(self, num_heads_1, num_heads_2, ff_size, embed_size):\n",
        "        super().__init__()\n",
        "        self.encoder = Encoder(num_heads_1, num_heads_2, ff_size, embed_size)\n",
        "        self.decoder = Decoder(num_heads_1, num_heads_2, ff_size, embed_size)\n",
        "        self.final_dense = tf.keras.layers.Dense(LEN_VOC, activation='softmax')\n",
        "\n",
        "    def call(self, inputs, training=False):\n",
        "        encoder_output = self.encoder(inputs, training=training)\n",
        "        decoder_output = self.decoder(inputs, encoder_output, training=training)\n",
        "        final_output = self.final_dense(decoder_output)\n",
        "        return final_output"
      ]
    },
    {
      "cell_type": "markdown",
      "source": [
        "# Function for creation of the model"
      ],
      "metadata": {
        "id": "nrH-6JjtjIPr"
      }
    },
    {
      "cell_type": "markdown",
      "source": [
        "Now that I have the structure of the model, I create a function that builds a transformer by passing the hyperparameters. This is a handful way to prove different parametrization of the model, in order to get the best one."
      ],
      "metadata": {
        "id": "vpoOBGlFZ2rk"
      }
    },
    {
      "cell_type": "code",
      "source": [
        "def create_model(num_heads_1, num_heads_2, ff_size, embed_size, optimizer):\n",
        "    class Encoder(tf.keras.layers.Layer):\n",
        "        def __init__(self, num_heads_1, num_heads_2, ff_size, embed_size):\n",
        "            super().__init__()\n",
        "            self.token_embed = tf.keras.layers.Embedding(input_dim=LEN_VOC, output_dim=embed_size)\n",
        "            self.position_embed = tf.keras.layers.Embedding(input_dim=embed_size, output_dim=embed_size)\n",
        "\n",
        "            self.multihead_attention1 = tf.keras.layers.MultiHeadAttention(num_heads=num_heads_1, key_dim=embed_size)\n",
        "            self.norm_layer1 = tf.keras.layers.LayerNormalization(epsilon=1e-6)\n",
        "\n",
        "            self.multihead_attention2 = tf.keras.layers.MultiHeadAttention(num_heads=num_heads_2, key_dim=embed_size)\n",
        "            self.norm_layer2 = tf.keras.layers.LayerNormalization(epsilon=1e-6)\n",
        "\n",
        "            self.feed_forward = tf.keras.Sequential([\n",
        "                tf.keras.layers.Dense(ff_size, activation=\"relu\"),\n",
        "                tf.keras.layers.Dropout(0.1),\n",
        "                tf.keras.layers.Dense(embed_size),\n",
        "                tf.keras.layers.Dropout(0.1),\n",
        "            ])\n",
        "            self.norm_layer3 = tf.keras.layers.LayerNormalization(epsilon=1e-6)\n",
        "\n",
        "        def call(self, inputs, training=False):\n",
        "            sequence_input = inputs\n",
        "            seq_length = tf.shape(sequence_input)[-1]\n",
        "            pos_indices = tf.range(start=0, limit=seq_length, delta=1)\n",
        "            pos_embed = self.position_embed(pos_indices)\n",
        "            tok_embed = self.token_embed(sequence_input)\n",
        "            combined_embed = tok_embed + pos_embed\n",
        "\n",
        "            attn_output1 = self.multihead_attention1(combined_embed, combined_embed)\n",
        "            norm_output1 = self.norm_layer1(combined_embed + attn_output1)\n",
        "\n",
        "            attn_output2 = self.multihead_attention2(norm_output1, norm_output1)\n",
        "            norm_output2 = self.norm_layer2(norm_output1 + attn_output2)\n",
        "\n",
        "            ffn_output = self.feed_forward(norm_output2, training=training)\n",
        "            final_output = self.norm_layer3(norm_output2 + ffn_output)\n",
        "\n",
        "            return final_output\n",
        "\n",
        "    class Decoder(tf.keras.layers.Layer):\n",
        "        def __init__(self, num_heads_1, num_heads_2, ff_size, embed_size):\n",
        "            super().__init__()\n",
        "            self.token_embed = tf.keras.layers.Embedding(input_dim=LEN_VOC, output_dim=embed_size)\n",
        "            self.position_embed = tf.keras.layers.Embedding(input_dim=embed_size, output_dim=embed_size)\n",
        "\n",
        "            self.masked_attention = tf.keras.layers.MultiHeadAttention(num_heads=num_heads_1, key_dim=embed_size)\n",
        "            self.norm_layer1 = tf.keras.layers.LayerNormalization(epsilon=1e-6)\n",
        "\n",
        "            self.multihead_attention1 = tf.keras.layers.MultiHeadAttention(num_heads=num_heads_1, key_dim=embed_size)\n",
        "            self.norm_layer2 = tf.keras.layers.LayerNormalization(epsilon=1e-6)\n",
        "\n",
        "            self.multihead_attention2 = tf.keras.layers.MultiHeadAttention(num_heads=num_heads_2, key_dim=embed_size)\n",
        "            self.norm_layer3 = tf.keras.layers.LayerNormalization(epsilon=1e-6)\n",
        "\n",
        "            self.feed_forward = tf.keras.Sequential([\n",
        "                tf.keras.layers.Dense(ff_size, activation=\"relu\"),\n",
        "                tf.keras.layers.Dropout(0.1),\n",
        "                tf.keras.layers.Dense(embed_size),\n",
        "                tf.keras.layers.Dropout(0.1),\n",
        "            ])\n",
        "            self.norm_layer4 = tf.keras.layers.LayerNormalization(epsilon=1e-6)\n",
        "\n",
        "        def call(self, inputs, encoder_output, training=False):\n",
        "            sequence_input = inputs\n",
        "            seq_length = tf.shape(sequence_input)[-1]\n",
        "            pos_indices = tf.range(start=0, limit=seq_length, delta=1)\n",
        "            pos_embed = self.position_embed(pos_indices)\n",
        "            tok_embed = self.token_embed(sequence_input)\n",
        "            combined_embed = tok_embed + pos_embed\n",
        "\n",
        "            masked_attn_output = self.masked_attention(combined_embed, combined_embed, use_causal_mask=True)\n",
        "            norm_output1 = self.norm_layer1(combined_embed + masked_attn_output)\n",
        "\n",
        "            attn_output1 = self.multihead_attention1(norm_output1, encoder_output)\n",
        "            norm_output2 = self.norm_layer2(norm_output1 + attn_output1)\n",
        "\n",
        "            attn_output2 = self.multihead_attention2(norm_output2, encoder_output)\n",
        "            norm_output3 = self.norm_layer3(norm_output2 + attn_output2)\n",
        "\n",
        "            ffn_output = self.feed_forward(norm_output3, training=training)\n",
        "            final_output = self.norm_layer4(norm_output3 + ffn_output)\n",
        "\n",
        "            return final_output\n",
        "\n",
        "    class Transformer(tf.keras.layers.Layer):\n",
        "        def __init__(self, num_heads_1, num_heads_2, ff_size, embed_size):\n",
        "            super().__init__()\n",
        "            self.encoder = Encoder(num_heads_1, num_heads_2, ff_size, embed_size)\n",
        "            self.decoder = Decoder(num_heads_1, num_heads_2, ff_size, embed_size)\n",
        "            self.final_dense = tf.keras.layers.Dense(LEN_VOC, activation='softmax')\n",
        "\n",
        "        def call(self, inputs, training=False):\n",
        "            encoder_output = self.encoder(inputs, training=training)\n",
        "            decoder_output = self.decoder(inputs, encoder_output, training=training)\n",
        "            final_output = self.final_dense(decoder_output)\n",
        "            return final_output\n",
        "\n",
        "    input_layer = tf.keras.layers.Input(shape=(MAX_LEN,))\n",
        "    transformer_output = Transformer(num_heads_1, num_heads_2, ff_size, embed_size)(input_layer)\n",
        "    model = tf.keras.Model(inputs=input_layer, outputs=transformer_output)\n",
        "    model.compile(optimizer=optimizer, loss=\"sparse_categorical_crossentropy\", metrics=[\"accuracy\"])\n",
        "\n",
        "    return model\n"
      ],
      "metadata": {
        "id": "Ncl3GYkujbYk"
      },
      "execution_count": 19,
      "outputs": []
    },
    {
      "cell_type": "markdown",
      "source": [
        "# Inizialization of the model"
      ],
      "metadata": {
        "id": "1-rqadukkRur"
      }
    },
    {
      "cell_type": "markdown",
      "source": [
        "For the inizialization of the model, I need some parameters and hyperparameters. In particular:\n",
        "\n",
        "- **LEN_VOC**: The vocabulary size, which is set to `10,000`.\n",
        "- **MAX_LEN**: The maximum length of input sequences, set to `28`.\n",
        "- **EMBED_SIZE**: The dimensionality of the token embeddings, set to `64` (a common practice in NLP tasks). This determines the size of the dense vector representation for each word.\n",
        "- **NUM_HEADS_1**: The number of heads in the first multi-head attention layer, set to `16`. This controls the number of parallel attention mechanisms in the layer.\n",
        "- **NUM_HEADS_2**: The number of heads in the second multi-head attention layer, set to `16`.\n",
        "- **FF_SIZE**: The size of the feed-forward network hidden layer, set to `4096`.\n",
        "- **OPTIMIZER**: The optimizer used for training the model, which is `AdamW`. It handles weight decay more efficiently, and improves generalization.\n",
        "- **EPOCHS**: The number of epochs for training the model, set to `30`.\n",
        "\n",
        "These constants define key parameters and settings used in the model architecture and training process.\n",
        "Empirically, it's proven that a high number of attention heads leads often to better performances, but this can cause an increase of the total number of parameters."
      ],
      "metadata": {
        "id": "vn3278RWfd69"
      }
    },
    {
      "cell_type": "code",
      "source": [
        "LEN_VOC = 10000\n",
        "MAX_LEN = 28\n",
        "EMBED_SIZE = 64\n",
        "NUM_HEADS_1 = 16\n",
        "NUM_HEADS_2 = 16\n",
        "FF_SIZE = 4096\n",
        "OPTIMIZER = tf.keras.optimizers.AdamW()\n",
        "EPOCHS = 30"
      ],
      "metadata": {
        "id": "uZnc4tz7kUUu"
      },
      "execution_count": 20,
      "outputs": []
    },
    {
      "cell_type": "markdown",
      "source": [
        "Now I can proceed to the creation and compilation of the model (which happens inside the function). I use `sparse_categorical_crossentropy` as loss function because it is suitable for classification tasks with multiple classes, where each input can belong to only one class, and in this task each word can be considered as a class, while the target labels are integers representing the indices of words in the correct order."
      ],
      "metadata": {
        "id": "uZrP2IL8g9-s"
      }
    },
    {
      "cell_type": "code",
      "source": [
        "# Create and compile the model\n",
        "transformer = create_model(NUM_HEADS_1, NUM_HEADS_2, FF_SIZE, EMBED_SIZE, OPTIMIZER)"
      ],
      "metadata": {
        "id": "mBOOuNwIk9-v"
      },
      "execution_count": 21,
      "outputs": []
    },
    {
      "cell_type": "markdown",
      "source": [
        "# Training"
      ],
      "metadata": {
        "id": "waRn5yRIlWSO"
      }
    },
    {
      "cell_type": "markdown",
      "source": [
        "I can now start the train of the model, using thirthy epochs (which should lead to convergence), and `batch_size = 32` to get more regularization and more memory efficiency."
      ],
      "metadata": {
        "id": "TO86fasE_GYe"
      }
    },
    {
      "cell_type": "code",
      "source": [
        "results = transformer.fit(train_generator, batch_size=32, epochs=EPOCHS)"
      ],
      "metadata": {
        "id": "SgNBYRb2vIZH",
        "colab": {
          "base_uri": "https://localhost:8080/"
        },
        "outputId": "96b0fee0-00f9-427b-ea6d-2dbf5de240c3"
      },
      "execution_count": 22,
      "outputs": [
        {
          "output_type": "stream",
          "name": "stdout",
          "text": [
            "Epoch 1/30\n"
          ]
        },
        {
          "output_type": "stream",
          "name": "stderr",
          "text": [
            "/usr/local/lib/python3.10/dist-packages/keras/src/trainers/data_adapters/py_dataset_adapter.py:121: UserWarning: Your `PyDataset` class should call `super().__init__(**kwargs)` in its constructor. `**kwargs` can include `workers`, `use_multiprocessing`, `max_queue_size`. Do not pass these arguments to `fit()`, as they will be ignored.\n",
            "  self._warn_if_super_not_called()\n"
          ]
        },
        {
          "output_type": "stream",
          "name": "stdout",
          "text": [
            "\u001b[1m6875/6875\u001b[0m \u001b[32m━━━━━━━━━━━━━━━━━━━━\u001b[0m\u001b[37m\u001b[0m \u001b[1m139s\u001b[0m 17ms/step - accuracy: 0.6401 - loss: 2.4791\n",
            "Epoch 2/30\n",
            "\u001b[1m6875/6875\u001b[0m \u001b[32m━━━━━━━━━━━━━━━━━━━━\u001b[0m\u001b[37m\u001b[0m \u001b[1m118s\u001b[0m 17ms/step - accuracy: 0.7106 - loss: 1.1758\n",
            "Epoch 3/30\n",
            "\u001b[1m6875/6875\u001b[0m \u001b[32m━━━━━━━━━━━━━━━━━━━━\u001b[0m\u001b[37m\u001b[0m \u001b[1m117s\u001b[0m 17ms/step - accuracy: 0.7251 - loss: 1.0399\n",
            "Epoch 4/30\n",
            "\u001b[1m6875/6875\u001b[0m \u001b[32m━━━━━━━━━━━━━━━━━━━━\u001b[0m\u001b[37m\u001b[0m \u001b[1m144s\u001b[0m 17ms/step - accuracy: 0.7350 - loss: 0.9738\n",
            "Epoch 5/30\n",
            "\u001b[1m6875/6875\u001b[0m \u001b[32m━━━━━━━━━━━━━━━━━━━━\u001b[0m\u001b[37m\u001b[0m \u001b[1m119s\u001b[0m 17ms/step - accuracy: 0.7433 - loss: 0.9290\n",
            "Epoch 6/30\n",
            "\u001b[1m6875/6875\u001b[0m \u001b[32m━━━━━━━━━━━━━━━━━━━━\u001b[0m\u001b[37m\u001b[0m \u001b[1m142s\u001b[0m 17ms/step - accuracy: 0.7495 - loss: 0.8960\n",
            "Epoch 7/30\n",
            "\u001b[1m6875/6875\u001b[0m \u001b[32m━━━━━━━━━━━━━━━━━━━━\u001b[0m\u001b[37m\u001b[0m \u001b[1m117s\u001b[0m 17ms/step - accuracy: 0.7549 - loss: 0.8695\n",
            "Epoch 8/30\n",
            "\u001b[1m6875/6875\u001b[0m \u001b[32m━━━━━━━━━━━━━━━━━━━━\u001b[0m\u001b[37m\u001b[0m \u001b[1m117s\u001b[0m 17ms/step - accuracy: 0.7600 - loss: 0.8462\n",
            "Epoch 9/30\n",
            "\u001b[1m6875/6875\u001b[0m \u001b[32m━━━━━━━━━━━━━━━━━━━━\u001b[0m\u001b[37m\u001b[0m \u001b[1m142s\u001b[0m 17ms/step - accuracy: 0.7643 - loss: 0.8260\n",
            "Epoch 10/30\n",
            "\u001b[1m6875/6875\u001b[0m \u001b[32m━━━━━━━━━━━━━━━━━━━━\u001b[0m\u001b[37m\u001b[0m \u001b[1m119s\u001b[0m 17ms/step - accuracy: 0.7682 - loss: 0.8099\n",
            "Epoch 11/30\n",
            "\u001b[1m6875/6875\u001b[0m \u001b[32m━━━━━━━━━━━━━━━━━━━━\u001b[0m\u001b[37m\u001b[0m \u001b[1m119s\u001b[0m 17ms/step - accuracy: 0.7715 - loss: 0.7950\n",
            "Epoch 12/30\n",
            "\u001b[1m6875/6875\u001b[0m \u001b[32m━━━━━━━━━━━━━━━━━━━━\u001b[0m\u001b[37m\u001b[0m \u001b[1m142s\u001b[0m 17ms/step - accuracy: 0.7749 - loss: 0.7812\n",
            "Epoch 13/30\n",
            "\u001b[1m6875/6875\u001b[0m \u001b[32m━━━━━━━━━━━━━━━━━━━━\u001b[0m\u001b[37m\u001b[0m \u001b[1m142s\u001b[0m 17ms/step - accuracy: 0.7774 - loss: 0.7703\n",
            "Epoch 14/30\n",
            "\u001b[1m6875/6875\u001b[0m \u001b[32m━━━━━━━━━━━━━━━━━━━━\u001b[0m\u001b[37m\u001b[0m \u001b[1m118s\u001b[0m 17ms/step - accuracy: 0.7806 - loss: 0.7572\n",
            "Epoch 15/30\n",
            "\u001b[1m6875/6875\u001b[0m \u001b[32m━━━━━━━━━━━━━━━━━━━━\u001b[0m\u001b[37m\u001b[0m \u001b[1m141s\u001b[0m 17ms/step - accuracy: 0.7834 - loss: 0.7459\n",
            "Epoch 16/30\n",
            "\u001b[1m6875/6875\u001b[0m \u001b[32m━━━━━━━━━━━━━━━━━━━━\u001b[0m\u001b[37m\u001b[0m \u001b[1m142s\u001b[0m 17ms/step - accuracy: 0.7853 - loss: 0.7384\n",
            "Epoch 17/30\n",
            "\u001b[1m6875/6875\u001b[0m \u001b[32m━━━━━━━━━━━━━━━━━━━━\u001b[0m\u001b[37m\u001b[0m \u001b[1m142s\u001b[0m 17ms/step - accuracy: 0.7872 - loss: 0.7303\n",
            "Epoch 18/30\n",
            "\u001b[1m6875/6875\u001b[0m \u001b[32m━━━━━━━━━━━━━━━━━━━━\u001b[0m\u001b[37m\u001b[0m \u001b[1m142s\u001b[0m 17ms/step - accuracy: 0.7902 - loss: 0.7189\n",
            "Epoch 19/30\n",
            "\u001b[1m6875/6875\u001b[0m \u001b[32m━━━━━━━━━━━━━━━━━━━━\u001b[0m\u001b[37m\u001b[0m \u001b[1m142s\u001b[0m 17ms/step - accuracy: 0.7918 - loss: 0.7135\n",
            "Epoch 20/30\n",
            "\u001b[1m6875/6875\u001b[0m \u001b[32m━━━━━━━━━━━━━━━━━━━━\u001b[0m\u001b[37m\u001b[0m \u001b[1m117s\u001b[0m 17ms/step - accuracy: 0.7936 - loss: 0.7056\n",
            "Epoch 21/30\n",
            "\u001b[1m6875/6875\u001b[0m \u001b[32m━━━━━━━━━━━━━━━━━━━━\u001b[0m\u001b[37m\u001b[0m \u001b[1m117s\u001b[0m 17ms/step - accuracy: 0.7954 - loss: 0.6984\n",
            "Epoch 22/30\n",
            "\u001b[1m6875/6875\u001b[0m \u001b[32m━━━━━━━━━━━━━━━━━━━━\u001b[0m\u001b[37m\u001b[0m \u001b[1m142s\u001b[0m 17ms/step - accuracy: 0.7973 - loss: 0.6914\n",
            "Epoch 23/30\n",
            "\u001b[1m6875/6875\u001b[0m \u001b[32m━━━━━━━━━━━━━━━━━━━━\u001b[0m\u001b[37m\u001b[0m \u001b[1m142s\u001b[0m 17ms/step - accuracy: 0.7984 - loss: 0.6864\n",
            "Epoch 24/30\n",
            "\u001b[1m6875/6875\u001b[0m \u001b[32m━━━━━━━━━━━━━━━━━━━━\u001b[0m\u001b[37m\u001b[0m \u001b[1m117s\u001b[0m 17ms/step - accuracy: 0.7997 - loss: 0.6822\n",
            "Epoch 25/30\n",
            "\u001b[1m6875/6875\u001b[0m \u001b[32m━━━━━━━━━━━━━━━━━━━━\u001b[0m\u001b[37m\u001b[0m \u001b[1m119s\u001b[0m 17ms/step - accuracy: 0.8011 - loss: 0.6774\n",
            "Epoch 26/30\n",
            "\u001b[1m6875/6875\u001b[0m \u001b[32m━━━━━━━━━━━━━━━━━━━━\u001b[0m\u001b[37m\u001b[0m \u001b[1m117s\u001b[0m 17ms/step - accuracy: 0.8025 - loss: 0.6707\n",
            "Epoch 27/30\n",
            "\u001b[1m6875/6875\u001b[0m \u001b[32m━━━━━━━━━━━━━━━━━━━━\u001b[0m\u001b[37m\u001b[0m \u001b[1m118s\u001b[0m 17ms/step - accuracy: 0.8041 - loss: 0.6654\n",
            "Epoch 28/30\n",
            "\u001b[1m6875/6875\u001b[0m \u001b[32m━━━━━━━━━━━━━━━━━━━━\u001b[0m\u001b[37m\u001b[0m \u001b[1m118s\u001b[0m 17ms/step - accuracy: 0.8049 - loss: 0.6632\n",
            "Epoch 29/30\n",
            "\u001b[1m6875/6875\u001b[0m \u001b[32m━━━━━━━━━━━━━━━━━━━━\u001b[0m\u001b[37m\u001b[0m \u001b[1m117s\u001b[0m 17ms/step - accuracy: 0.8069 - loss: 0.6550\n",
            "Epoch 30/30\n",
            "\u001b[1m6875/6875\u001b[0m \u001b[32m━━━━━━━━━━━━━━━━━━━━\u001b[0m\u001b[37m\u001b[0m \u001b[1m118s\u001b[0m 17ms/step - accuracy: 0.8078 - loss: 0.6510\n"
          ]
        }
      ]
    },
    {
      "cell_type": "markdown",
      "source": [
        "The following plot represents the history of the training."
      ],
      "metadata": {
        "id": "KI53hMy65k7b"
      }
    },
    {
      "cell_type": "code",
      "source": [
        "history = results.history\n",
        "plt.plot(history['loss'], label='Training Loss', color='blue')\n",
        "plt.plot(history['accuracy'], label='Training Accuracy', color='orange')\n",
        "plt.title('Training Loss and Accuracy')\n",
        "plt.xlabel('Epoch')\n",
        "plt.ylabel('Loss / Accuracy')\n",
        "plt.legend()\n",
        "plt.show()"
      ],
      "metadata": {
        "colab": {
          "base_uri": "https://localhost:8080/",
          "height": 472
        },
        "id": "91OYuXm3lq5b",
        "outputId": "aa568900-0f4f-46cd-be13-bd680e70072b"
      },
      "execution_count": 24,
      "outputs": [
        {
          "output_type": "display_data",
          "data": {
            "text/plain": [
              "<Figure size 640x480 with 1 Axes>"
            ],
            "image/png": "[encoded data removed]"
          },
          "metadata": {}
        }
      ]
    },
    {
      "cell_type": "markdown",
      "source": [
        "It's clearly visible that the loss decreases rapidly during the first 5 epochs, and it becomes lower and lower until we get to the 30th epoch, as well as the accuracy, which increases steadly."
      ],
      "metadata": {
        "id": "--PayqY05-2L"
      }
    },
    {
      "cell_type": "markdown",
      "metadata": {
        "id": "TizAn4lonaun"
      },
      "source": [
        "# Testing"
      ]
    },
    {
      "cell_type": "markdown",
      "source": [
        "The following cell contains a test function that evaluates the performances of the model by computing the average score over all the test set."
      ],
      "metadata": {
        "id": "tfOIUAazhrn_"
      }
    },
    {
      "cell_type": "code",
      "execution_count": 25,
      "metadata": {
        "id": "c7O2Vw9gv_YT"
      },
      "outputs": [],
      "source": [
        "def evaluate_model(num_test_batches, test_gen, model, detokenizer, score):\n",
        "    total_score_pred = 0\n",
        "\n",
        "    for batch_idx in range(num_test_batches):\n",
        "        inputs, targets = test_gen.__getitem__(batch_idx)\n",
        "        preds = model.predict(inputs, batch_size=1)\n",
        "        best_predictions = []\n",
        "\n",
        "        for pred_idx in range(len(preds)):\n",
        "            best_inner = []\n",
        "            for seq_idx in range(len(preds[pred_idx])):\n",
        "                best_inner.append(np.argmax(preds[pred_idx][seq_idx]))\n",
        "            best_predictions.append(best_inner)\n",
        "\n",
        "        for sample_idx in range(len(inputs)):\n",
        "            total_score_pred += score(detokenizer(targets)[sample_idx], detokenizer(best_predictions)[sample_idx])\n",
        "\n",
        "    avg_score_pred = total_score_pred / (len(inputs) * num_test_batches)\n",
        "\n",
        "    return avg_score_pred\n"
      ]
    },
    {
      "cell_type": "code",
      "source": [
        "%%capture\n",
        "avg_score_pred = evaluate_model(TEST_BATCHES, test_generator, transformer, detokenizer, score)"
      ],
      "metadata": {
        "id": "l6lt2X-Bh95q"
      },
      "execution_count": 26,
      "outputs": []
    },
    {
      "cell_type": "code",
      "source": [
        "print(f\"The average score on the test set is: {avg_score_pred}\")"
      ],
      "metadata": {
        "colab": {
          "base_uri": "https://localhost:8080/"
        },
        "id": "5y4C92UF6nts",
        "outputId": "4855acf4-f5d6-480d-b694-c435e32442a8"
      },
      "execution_count": 27,
      "outputs": [
        {
          "output_type": "stream",
          "name": "stdout",
          "text": [
            "The average score on the test set is: 0.39277304500705584\n"
          ]
        }
      ]
    },
    {
      "cell_type": "markdown",
      "source": [
        "The average score on the test set is 0.39, which is around three std higher than the baseline mean, as requested."
      ],
      "metadata": {
        "id": "UHn7SYBHiqWC"
      }
    },
    {
      "cell_type": "markdown",
      "source": [
        "# Summary of the model"
      ],
      "metadata": {
        "id": "Z8IAJL21rBIw"
      }
    },
    {
      "cell_type": "markdown",
      "source": [
        "Let's look at the specifics of the model.\n",
        "\n",
        "*NOTE*: the output of the `summary()` method may not be visible if you open the file with some IDEs (like VSCode). It's suggested to use Colab or Kaggle instead."
      ],
      "metadata": {
        "id": "GwNs3xTKiXga"
      }
    },
    {
      "cell_type": "code",
      "source": [
        "transformer.summary()"
      ],
      "metadata": {
        "colab": {
          "base_uri": "https://localhost:8080/",
          "height": 209
        },
        "id": "WDIjm5kzrCTk",
        "outputId": "903cd9b1-998f-4425-fbeb-e647a3458949"
      },
      "execution_count": 28,
      "outputs": [
        {
          "output_type": "display_data",
          "data": {
            "text/plain": [
              "\u001b[1mModel: \"functional_3\"\u001b[0m\n"
            ],
            "text/html": [
              "<pre style=\"white-space:pre;overflow-x:auto;line-height:normal;font-family:Menlo,'DejaVu Sans Mono',consolas,'Courier New',monospace\"><span style=\"font-weight: bold\">Model: \"functional_3\"</span>\n",
              "</pre>\n"
            ]
          },
          "metadata": {}
        },
        {
          "output_type": "display_data",
          "data": {
            "text/plain": [
              "┏━━━━━━━━━━━━━━━━━━━━━━━━━━━━━━━━━━━━━━┳━━━━━━━━━━━━━━━━━━━━━━━━━━━━━┳━━━━━━━━━━━━━━━━━┓\n",
              "┃\u001b[1m \u001b[0m\u001b[1mLayer (type)                        \u001b[0m\u001b[1m \u001b[0m┃\u001b[1m \u001b[0m\u001b[1mOutput Shape               \u001b[0m\u001b[1m \u001b[0m┃\u001b[1m \u001b[0m\u001b[1m        Param #\u001b[0m\u001b[1m \u001b[0m┃\n",
              "┡━━━━━━━━━━━━━━━━━━━━━━━━━━━━━━━━━━━━━━╇━━━━━━━━━━━━━━━━━━━━━━━━━━━━━╇━━━━━━━━━━━━━━━━━┩\n",
              "│ input_layer (\u001b[38;5;33mInputLayer\u001b[0m)             │ (\u001b[38;5;45mNone\u001b[0m, \u001b[38;5;34m28\u001b[0m)                  │               \u001b[38;5;34m0\u001b[0m │\n",
              "├──────────────────────────────────────┼─────────────────────────────┼─────────────────┤\n",
              "│ transformer (\u001b[38;5;33mTransformer\u001b[0m)            │ (\u001b[38;5;45mNone\u001b[0m, \u001b[38;5;34m28\u001b[0m, \u001b[38;5;34m10000\u001b[0m)           │       \u001b[38;5;34m4,322,384\u001b[0m │\n",
              "└──────────────────────────────────────┴─────────────────────────────┴─────────────────┘\n"
            ],
            "text/html": [
              "<pre style=\"white-space:pre;overflow-x:auto;line-height:normal;font-family:Menlo,'DejaVu Sans Mono',consolas,'Courier New',monospace\">┏━━━━━━━━━━━━━━━━━━━━━━━━━━━━━━━━━━━━━━┳━━━━━━━━━━━━━━━━━━━━━━━━━━━━━┳━━━━━━━━━━━━━━━━━┓\n",
              "┃<span style=\"font-weight: bold\"> Layer (type)                         </span>┃<span style=\"font-weight: bold\"> Output Shape                </span>┃<span style=\"font-weight: bold\">         Param # </span>┃\n",
              "┡━━━━━━━━━━━━━━━━━━━━━━━━━━━━━━━━━━━━━━╇━━━━━━━━━━━━━━━━━━━━━━━━━━━━━╇━━━━━━━━━━━━━━━━━┩\n",
              "│ input_layer (<span style=\"color: #0087ff; text-decoration-color: #0087ff\">InputLayer</span>)             │ (<span style=\"color: #00d7ff; text-decoration-color: #00d7ff\">None</span>, <span style=\"color: #00af00; text-decoration-color: #00af00\">28</span>)                  │               <span style=\"color: #00af00; text-decoration-color: #00af00\">0</span> │\n",
              "├──────────────────────────────────────┼─────────────────────────────┼─────────────────┤\n",
              "│ transformer (<span style=\"color: #0087ff; text-decoration-color: #0087ff\">Transformer</span>)            │ (<span style=\"color: #00d7ff; text-decoration-color: #00d7ff\">None</span>, <span style=\"color: #00af00; text-decoration-color: #00af00\">28</span>, <span style=\"color: #00af00; text-decoration-color: #00af00\">10000</span>)           │       <span style=\"color: #00af00; text-decoration-color: #00af00\">4,322,384</span> │\n",
              "└──────────────────────────────────────┴─────────────────────────────┴─────────────────┘\n",
              "</pre>\n"
            ]
          },
          "metadata": {}
        },
        {
          "output_type": "display_data",
          "data": {
            "text/plain": [
              "\u001b[1m Total params: \u001b[0m\u001b[38;5;34m12,967,154\u001b[0m (49.47 MB)\n"
            ],
            "text/html": [
              "<pre style=\"white-space:pre;overflow-x:auto;line-height:normal;font-family:Menlo,'DejaVu Sans Mono',consolas,'Courier New',monospace\"><span style=\"font-weight: bold\"> Total params: </span><span style=\"color: #00af00; text-decoration-color: #00af00\">12,967,154</span> (49.47 MB)\n",
              "</pre>\n"
            ]
          },
          "metadata": {}
        },
        {
          "output_type": "display_data",
          "data": {
            "text/plain": [
              "\u001b[1m Trainable params: \u001b[0m\u001b[38;5;34m4,322,384\u001b[0m (16.49 MB)\n"
            ],
            "text/html": [
              "<pre style=\"white-space:pre;overflow-x:auto;line-height:normal;font-family:Menlo,'DejaVu Sans Mono',consolas,'Courier New',monospace\"><span style=\"font-weight: bold\"> Trainable params: </span><span style=\"color: #00af00; text-decoration-color: #00af00\">4,322,384</span> (16.49 MB)\n",
              "</pre>\n"
            ]
          },
          "metadata": {}
        },
        {
          "output_type": "display_data",
          "data": {
            "text/plain": [
              "\u001b[1m Non-trainable params: \u001b[0m\u001b[38;5;34m0\u001b[0m (0.00 B)\n"
            ],
            "text/html": [
              "<pre style=\"white-space:pre;overflow-x:auto;line-height:normal;font-family:Menlo,'DejaVu Sans Mono',consolas,'Courier New',monospace\"><span style=\"font-weight: bold\"> Non-trainable params: </span><span style=\"color: #00af00; text-decoration-color: #00af00\">0</span> (0.00 B)\n",
              "</pre>\n"
            ]
          },
          "metadata": {}
        },
        {
          "output_type": "display_data",
          "data": {
            "text/plain": [
              "\u001b[1m Optimizer params: \u001b[0m\u001b[38;5;34m8,644,770\u001b[0m (32.98 MB)\n"
            ],
            "text/html": [
              "<pre style=\"white-space:pre;overflow-x:auto;line-height:normal;font-family:Menlo,'DejaVu Sans Mono',consolas,'Courier New',monospace\"><span style=\"font-weight: bold\"> Optimizer params: </span><span style=\"color: #00af00; text-decoration-color: #00af00\">8,644,770</span> (32.98 MB)\n",
              "</pre>\n"
            ]
          },
          "metadata": {}
        }
      ]
    },
    {
      "cell_type": "markdown",
      "source": [
        "The model has less than 20M parameters, and in particular it has just 4M trainable parameters. The majority of them comes from the optimizer, which uses the double of the trainable parameters."
      ],
      "metadata": {
        "id": "l-4_upoTieLX"
      }
    },
    {
      "cell_type": "markdown",
      "source": [
        "# Failed alternative models"
      ],
      "metadata": {
        "id": "OGANRJ-esAl7"
      }
    },
    {
      "cell_type": "markdown",
      "source": [
        "*NOTE*: the following models are some failed attempts I did. The final model is just the one built in the previous section of the notebook."
      ],
      "metadata": {
        "id": "vER7skABPUn0"
      }
    },
    {
      "cell_type": "markdown",
      "source": [
        "In order to reach higher performances, I can make `EMBED_SIZE` bigger, but I should also take into account the total number of parameters, which should not be above the given threshold. Let's try by using `128`, but with just `2` for the heads."
      ],
      "metadata": {
        "id": "-rQWZA2L4bTR"
      }
    },
    {
      "cell_type": "code",
      "source": [
        "%%capture\n",
        "\n",
        "LEN_VOC = 10000\n",
        "MAX_LEN = 28\n",
        "EMBED_SIZE = 128\n",
        "NUM_HEADS_1 = 2\n",
        "NUM_HEADS_2 = 2\n",
        "FF_SIZE = 4096\n",
        "OPTIMIZER = tf.keras.optimizers.AdamW()\n",
        "EPOCHS = 1\n",
        "\n",
        "transformer = create_model(NUM_HEADS_1, NUM_HEADS_2, FF_SIZE, EMBED_SIZE, OPTIMIZER)\n",
        "results = transformer.fit(train_generator, batch_size=32, epochs=EPOCHS)"
      ],
      "metadata": {
        "id": "ZPg60Pru74Y4"
      },
      "execution_count": 31,
      "outputs": []
    },
    {
      "cell_type": "code",
      "source": [
        "transformer.summary()"
      ],
      "metadata": {
        "colab": {
          "base_uri": "https://localhost:8080/",
          "height": 209
        },
        "id": "MCrS78rj8Hjh",
        "outputId": "33f29f3a-bc1e-427d-99ea-a4873fcd5ed4"
      },
      "execution_count": 32,
      "outputs": [
        {
          "output_type": "display_data",
          "data": {
            "text/plain": [
              "\u001b[1mModel: \"functional_11\"\u001b[0m\n"
            ],
            "text/html": [
              "<pre style=\"white-space:pre;overflow-x:auto;line-height:normal;font-family:Menlo,'DejaVu Sans Mono',consolas,'Courier New',monospace\"><span style=\"font-weight: bold\">Model: \"functional_11\"</span>\n",
              "</pre>\n"
            ]
          },
          "metadata": {}
        },
        {
          "output_type": "display_data",
          "data": {
            "text/plain": [
              "┏━━━━━━━━━━━━━━━━━━━━━━━━━━━━━━━━━━━━━━┳━━━━━━━━━━━━━━━━━━━━━━━━━━━━━┳━━━━━━━━━━━━━━━━━┓\n",
              "┃\u001b[1m \u001b[0m\u001b[1mLayer (type)                        \u001b[0m\u001b[1m \u001b[0m┃\u001b[1m \u001b[0m\u001b[1mOutput Shape               \u001b[0m\u001b[1m \u001b[0m┃\u001b[1m \u001b[0m\u001b[1m        Param #\u001b[0m\u001b[1m \u001b[0m┃\n",
              "┡━━━━━━━━━━━━━━━━━━━━━━━━━━━━━━━━━━━━━━╇━━━━━━━━━━━━━━━━━━━━━━━━━━━━━╇━━━━━━━━━━━━━━━━━┩\n",
              "│ input_layer_6 (\u001b[38;5;33mInputLayer\u001b[0m)           │ (\u001b[38;5;45mNone\u001b[0m, \u001b[38;5;34m28\u001b[0m)                  │               \u001b[38;5;34m0\u001b[0m │\n",
              "├──────────────────────────────────────┼─────────────────────────────┼─────────────────┤\n",
              "│ transformer_2 (\u001b[38;5;33mTransformer\u001b[0m)          │ (\u001b[38;5;45mNone\u001b[0m, \u001b[38;5;34m28\u001b[0m, \u001b[38;5;34m10000\u001b[0m)           │       \u001b[38;5;34m6,650,000\u001b[0m │\n",
              "└──────────────────────────────────────┴─────────────────────────────┴─────────────────┘\n"
            ],
            "text/html": [
              "<pre style=\"white-space:pre;overflow-x:auto;line-height:normal;font-family:Menlo,'DejaVu Sans Mono',consolas,'Courier New',monospace\">┏━━━━━━━━━━━━━━━━━━━━━━━━━━━━━━━━━━━━━━┳━━━━━━━━━━━━━━━━━━━━━━━━━━━━━┳━━━━━━━━━━━━━━━━━┓\n",
              "┃<span style=\"font-weight: bold\"> Layer (type)                         </span>┃<span style=\"font-weight: bold\"> Output Shape                </span>┃<span style=\"font-weight: bold\">         Param # </span>┃\n",
              "┡━━━━━━━━━━━━━━━━━━━━━━━━━━━━━━━━━━━━━━╇━━━━━━━━━━━━━━━━━━━━━━━━━━━━━╇━━━━━━━━━━━━━━━━━┩\n",
              "│ input_layer_6 (<span style=\"color: #0087ff; text-decoration-color: #0087ff\">InputLayer</span>)           │ (<span style=\"color: #00d7ff; text-decoration-color: #00d7ff\">None</span>, <span style=\"color: #00af00; text-decoration-color: #00af00\">28</span>)                  │               <span style=\"color: #00af00; text-decoration-color: #00af00\">0</span> │\n",
              "├──────────────────────────────────────┼─────────────────────────────┼─────────────────┤\n",
              "│ transformer_2 (<span style=\"color: #0087ff; text-decoration-color: #0087ff\">Transformer</span>)          │ (<span style=\"color: #00d7ff; text-decoration-color: #00d7ff\">None</span>, <span style=\"color: #00af00; text-decoration-color: #00af00\">28</span>, <span style=\"color: #00af00; text-decoration-color: #00af00\">10000</span>)           │       <span style=\"color: #00af00; text-decoration-color: #00af00\">6,650,000</span> │\n",
              "└──────────────────────────────────────┴─────────────────────────────┴─────────────────┘\n",
              "</pre>\n"
            ]
          },
          "metadata": {}
        },
        {
          "output_type": "display_data",
          "data": {
            "text/plain": [
              "\u001b[1m Total params: \u001b[0m\u001b[38;5;34m19,950,002\u001b[0m (76.10 MB)\n"
            ],
            "text/html": [
              "<pre style=\"white-space:pre;overflow-x:auto;line-height:normal;font-family:Menlo,'DejaVu Sans Mono',consolas,'Courier New',monospace\"><span style=\"font-weight: bold\"> Total params: </span><span style=\"color: #00af00; text-decoration-color: #00af00\">19,950,002</span> (76.10 MB)\n",
              "</pre>\n"
            ]
          },
          "metadata": {}
        },
        {
          "output_type": "display_data",
          "data": {
            "text/plain": [
              "\u001b[1m Trainable params: \u001b[0m\u001b[38;5;34m6,650,000\u001b[0m (25.37 MB)\n"
            ],
            "text/html": [
              "<pre style=\"white-space:pre;overflow-x:auto;line-height:normal;font-family:Menlo,'DejaVu Sans Mono',consolas,'Courier New',monospace\"><span style=\"font-weight: bold\"> Trainable params: </span><span style=\"color: #00af00; text-decoration-color: #00af00\">6,650,000</span> (25.37 MB)\n",
              "</pre>\n"
            ]
          },
          "metadata": {}
        },
        {
          "output_type": "display_data",
          "data": {
            "text/plain": [
              "\u001b[1m Non-trainable params: \u001b[0m\u001b[38;5;34m0\u001b[0m (0.00 B)\n"
            ],
            "text/html": [
              "<pre style=\"white-space:pre;overflow-x:auto;line-height:normal;font-family:Menlo,'DejaVu Sans Mono',consolas,'Courier New',monospace\"><span style=\"font-weight: bold\"> Non-trainable params: </span><span style=\"color: #00af00; text-decoration-color: #00af00\">0</span> (0.00 B)\n",
              "</pre>\n"
            ]
          },
          "metadata": {}
        },
        {
          "output_type": "display_data",
          "data": {
            "text/plain": [
              "\u001b[1m Optimizer params: \u001b[0m\u001b[38;5;34m13,300,002\u001b[0m (50.74 MB)\n"
            ],
            "text/html": [
              "<pre style=\"white-space:pre;overflow-x:auto;line-height:normal;font-family:Menlo,'DejaVu Sans Mono',consolas,'Courier New',monospace\"><span style=\"font-weight: bold\"> Optimizer params: </span><span style=\"color: #00af00; text-decoration-color: #00af00\">13,300,002</span> (50.74 MB)\n",
              "</pre>\n"
            ]
          },
          "metadata": {}
        }
      ]
    },
    {
      "cell_type": "markdown",
      "source": [
        "It's clear that the number of parameters decreases and stays below 20M, but since I put `2` as number of heads, this model has few attention, meaning that it leads to very bad results. Let's try to increase the number of heads."
      ],
      "metadata": {
        "id": "iw4Ln1iL8jJ_"
      }
    },
    {
      "cell_type": "code",
      "source": [
        "%%capture\n",
        "\n",
        "LEN_VOC = 10000\n",
        "MAX_LEN = 28\n",
        "EMBED_SIZE = 128\n",
        "NUM_HEADS_1 = 16\n",
        "NUM_HEADS_2 = 12\n",
        "FF_SIZE = 4096\n",
        "OPTIMIZER = tf.keras.optimizers.AdamW()\n",
        "EPOCHS = 1\n",
        "\n",
        "transformer = create_model(NUM_HEADS_1, NUM_HEADS_2, FF_SIZE, EMBED_SIZE, OPTIMIZER)\n",
        "results = transformer.fit(train_generator, batch_size=32, epochs=EPOCHS)"
      ],
      "metadata": {
        "id": "obCSG1TGr579"
      },
      "execution_count": 29,
      "outputs": []
    },
    {
      "cell_type": "code",
      "source": [
        "transformer.summary()"
      ],
      "metadata": {
        "colab": {
          "base_uri": "https://localhost:8080/",
          "height": 209
        },
        "id": "g4C4XxeYsQGK",
        "outputId": "73eecfe1-7f93-4d55-888c-c5784f282b55"
      },
      "execution_count": 30,
      "outputs": [
        {
          "output_type": "display_data",
          "data": {
            "text/plain": [
              "\u001b[1mModel: \"functional_7\"\u001b[0m\n"
            ],
            "text/html": [
              "<pre style=\"white-space:pre;overflow-x:auto;line-height:normal;font-family:Menlo,'DejaVu Sans Mono',consolas,'Courier New',monospace\"><span style=\"font-weight: bold\">Model: \"functional_7\"</span>\n",
              "</pre>\n"
            ]
          },
          "metadata": {}
        },
        {
          "output_type": "display_data",
          "data": {
            "text/plain": [
              "┏━━━━━━━━━━━━━━━━━━━━━━━━━━━━━━━━━━━━━━┳━━━━━━━━━━━━━━━━━━━━━━━━━━━━━┳━━━━━━━━━━━━━━━━━┓\n",
              "┃\u001b[1m \u001b[0m\u001b[1mLayer (type)                        \u001b[0m\u001b[1m \u001b[0m┃\u001b[1m \u001b[0m\u001b[1mOutput Shape               \u001b[0m\u001b[1m \u001b[0m┃\u001b[1m \u001b[0m\u001b[1m        Param #\u001b[0m\u001b[1m \u001b[0m┃\n",
              "┡━━━━━━━━━━━━━━━━━━━━━━━━━━━━━━━━━━━━━━╇━━━━━━━━━━━━━━━━━━━━━━━━━━━━━╇━━━━━━━━━━━━━━━━━┩\n",
              "│ input_layer_3 (\u001b[38;5;33mInputLayer\u001b[0m)           │ (\u001b[38;5;45mNone\u001b[0m, \u001b[38;5;34m28\u001b[0m)                  │               \u001b[38;5;34m0\u001b[0m │\n",
              "├──────────────────────────────────────┼─────────────────────────────┼─────────────────┤\n",
              "│ transformer_1 (\u001b[38;5;33mTransformer\u001b[0m)          │ (\u001b[38;5;45mNone\u001b[0m, \u001b[38;5;34m28\u001b[0m, \u001b[38;5;34m10000\u001b[0m)           │      \u001b[38;5;34m10,737,040\u001b[0m │\n",
              "└──────────────────────────────────────┴─────────────────────────────┴─────────────────┘\n"
            ],
            "text/html": [
              "<pre style=\"white-space:pre;overflow-x:auto;line-height:normal;font-family:Menlo,'DejaVu Sans Mono',consolas,'Courier New',monospace\">┏━━━━━━━━━━━━━━━━━━━━━━━━━━━━━━━━━━━━━━┳━━━━━━━━━━━━━━━━━━━━━━━━━━━━━┳━━━━━━━━━━━━━━━━━┓\n",
              "┃<span style=\"font-weight: bold\"> Layer (type)                         </span>┃<span style=\"font-weight: bold\"> Output Shape                </span>┃<span style=\"font-weight: bold\">         Param # </span>┃\n",
              "┡━━━━━━━━━━━━━━━━━━━━━━━━━━━━━━━━━━━━━━╇━━━━━━━━━━━━━━━━━━━━━━━━━━━━━╇━━━━━━━━━━━━━━━━━┩\n",
              "│ input_layer_3 (<span style=\"color: #0087ff; text-decoration-color: #0087ff\">InputLayer</span>)           │ (<span style=\"color: #00d7ff; text-decoration-color: #00d7ff\">None</span>, <span style=\"color: #00af00; text-decoration-color: #00af00\">28</span>)                  │               <span style=\"color: #00af00; text-decoration-color: #00af00\">0</span> │\n",
              "├──────────────────────────────────────┼─────────────────────────────┼─────────────────┤\n",
              "│ transformer_1 (<span style=\"color: #0087ff; text-decoration-color: #0087ff\">Transformer</span>)          │ (<span style=\"color: #00d7ff; text-decoration-color: #00d7ff\">None</span>, <span style=\"color: #00af00; text-decoration-color: #00af00\">28</span>, <span style=\"color: #00af00; text-decoration-color: #00af00\">10000</span>)           │      <span style=\"color: #00af00; text-decoration-color: #00af00\">10,737,040</span> │\n",
              "└──────────────────────────────────────┴─────────────────────────────┴─────────────────┘\n",
              "</pre>\n"
            ]
          },
          "metadata": {}
        },
        {
          "output_type": "display_data",
          "data": {
            "text/plain": [
              "\u001b[1m Total params: \u001b[0m\u001b[38;5;34m32,211,122\u001b[0m (122.88 MB)\n"
            ],
            "text/html": [
              "<pre style=\"white-space:pre;overflow-x:auto;line-height:normal;font-family:Menlo,'DejaVu Sans Mono',consolas,'Courier New',monospace\"><span style=\"font-weight: bold\"> Total params: </span><span style=\"color: #00af00; text-decoration-color: #00af00\">32,211,122</span> (122.88 MB)\n",
              "</pre>\n"
            ]
          },
          "metadata": {}
        },
        {
          "output_type": "display_data",
          "data": {
            "text/plain": [
              "\u001b[1m Trainable params: \u001b[0m\u001b[38;5;34m10,737,040\u001b[0m (40.96 MB)\n"
            ],
            "text/html": [
              "<pre style=\"white-space:pre;overflow-x:auto;line-height:normal;font-family:Menlo,'DejaVu Sans Mono',consolas,'Courier New',monospace\"><span style=\"font-weight: bold\"> Trainable params: </span><span style=\"color: #00af00; text-decoration-color: #00af00\">10,737,040</span> (40.96 MB)\n",
              "</pre>\n"
            ]
          },
          "metadata": {}
        },
        {
          "output_type": "display_data",
          "data": {
            "text/plain": [
              "\u001b[1m Non-trainable params: \u001b[0m\u001b[38;5;34m0\u001b[0m (0.00 B)\n"
            ],
            "text/html": [
              "<pre style=\"white-space:pre;overflow-x:auto;line-height:normal;font-family:Menlo,'DejaVu Sans Mono',consolas,'Courier New',monospace\"><span style=\"font-weight: bold\"> Non-trainable params: </span><span style=\"color: #00af00; text-decoration-color: #00af00\">0</span> (0.00 B)\n",
              "</pre>\n"
            ]
          },
          "metadata": {}
        },
        {
          "output_type": "display_data",
          "data": {
            "text/plain": [
              "\u001b[1m Optimizer params: \u001b[0m\u001b[38;5;34m21,474,082\u001b[0m (81.92 MB)\n"
            ],
            "text/html": [
              "<pre style=\"white-space:pre;overflow-x:auto;line-height:normal;font-family:Menlo,'DejaVu Sans Mono',consolas,'Courier New',monospace\"><span style=\"font-weight: bold\"> Optimizer params: </span><span style=\"color: #00af00; text-decoration-color: #00af00\">21,474,082</span> (81.92 MB)\n",
              "</pre>\n"
            ]
          },
          "metadata": {}
        }
      ]
    },
    {
      "cell_type": "markdown",
      "source": [
        "This model has way more parameters than the given threshold, meaning that it's not suitable."
      ],
      "metadata": {
        "id": "YNl-Xb2OQc3_"
      }
    },
    {
      "cell_type": "markdown",
      "source": [
        "# Conclusions"
      ],
      "metadata": {
        "id": "9CgR2zvJ82ih"
      }
    },
    {
      "cell_type": "markdown",
      "source": [
        "In conclusion:\n",
        "\n",
        "- Using a transformer model for the sentence reordering task leads to overall good results.\n",
        "  \n",
        "- The selection of the right hyperparameters is essential for the performance of the model, and also to keep low the number of parameters.\n",
        "\n",
        "- I opted to use the AdamW optimizer due to its effectiveness in handling weight decay regularization, stability with sparse gradients, and empirical performance in deep learning tasks.\n",
        "\n",
        "- For the classification task with sparse integer labels representing word indices, I chose sparse categorical crossentropy as the loss function. This choice simplifies implementation, handles multiple classes efficiently, and facilitates effective training and optimization.\n",
        "\n",
        "- There is a trade-off between the total number of parameters and the performance of the model. If I want to keep few parameters, my model will not have amazing results (and the task explicitly requested less than 20M of them). After all, given an average score of 0.39, the results are good enough to define the model as effective and efficient."
      ],
      "metadata": {
        "id": "dXbIzsE-84ZQ"
      }
    }
  ],
  "metadata": {
    "colab": {
      "provenance": [],
      "gpuType": "T4"
    },
    "kernelspec": {
      "display_name": "Python 3",
      "name": "python3"
    },
    "language_info": {
      "name": "python"
    },
    "accelerator": "GPU",
    "widgets": {
      "application/vnd.jupyter.widget-state+json": {
        "5b40a10127824fb2bcb60253b1569e3e": {
          "model_module": "@jupyter-widgets/controls",
          "model_name": "HBoxModel",
          "model_module_version": "1.5.0",
          "state": {
            "_dom_classes": [],
            "_model_module": "@jupyter-widgets/controls",
            "_model_module_version": "1.5.0",
            "_model_name": "HBoxModel",
            "_view_count": null,
            "_view_module": "@jupyter-widgets/controls",
            "_view_module_version": "1.5.0",
            "_view_name": "HBoxView",
            "box_style": "",
            "children": [
              "IPY_MODEL_dae942dc434d4f74936286288f1b56de",
              "IPY_MODEL_c5f7b8c8fa3440fd8429cd378f4ac787",
              "IPY_MODEL_dd5f3b34aaab462797552358a8ae3cdf"
            ],
            "layout": "IPY_MODEL_dea8e9d2d2764df0b6add03ae6450834"
          }
        },
        "dae942dc434d4f74936286288f1b56de": {
          "model_module": "@jupyter-widgets/controls",
          "model_name": "HTMLModel",
          "model_module_version": "1.5.0",
          "state": {
            "_dom_classes": [],
            "_model_module": "@jupyter-widgets/controls",
            "_model_module_version": "1.5.0",
            "_model_name": "HTMLModel",
            "_view_count": null,
            "_view_module": "@jupyter-widgets/controls",
            "_view_module_version": "1.5.0",
            "_view_name": "HTMLView",
            "description": "",
            "description_tooltip": null,
            "layout": "IPY_MODEL_5c788c25f31643c6b8bb3888e2ea83df",
            "placeholder": "​",
            "style": "IPY_MODEL_d9575bf33fc641f6b546c77b44caf5ff",
            "value": "Downloading builder script: 100%"
          }
        },
        "c5f7b8c8fa3440fd8429cd378f4ac787": {
          "model_module": "@jupyter-widgets/controls",
          "model_name": "FloatProgressModel",
          "model_module_version": "1.5.0",
          "state": {
            "_dom_classes": [],
            "_model_module": "@jupyter-widgets/controls",
            "_model_module_version": "1.5.0",
            "_model_name": "FloatProgressModel",
            "_view_count": null,
            "_view_module": "@jupyter-widgets/controls",
            "_view_module_version": "1.5.0",
            "_view_name": "ProgressView",
            "bar_style": "success",
            "description": "",
            "description_tooltip": null,
            "layout": "IPY_MODEL_5e833bcd191547c99d3dd24eea312c43",
            "max": 8643,
            "min": 0,
            "orientation": "horizontal",
            "style": "IPY_MODEL_b6f6970734ba431da1993280d6f1a223",
            "value": 8643
          }
        },
        "dd5f3b34aaab462797552358a8ae3cdf": {
          "model_module": "@jupyter-widgets/controls",
          "model_name": "HTMLModel",
          "model_module_version": "1.5.0",
          "state": {
            "_dom_classes": [],
            "_model_module": "@jupyter-widgets/controls",
            "_model_module_version": "1.5.0",
            "_model_name": "HTMLModel",
            "_view_count": null,
            "_view_module": "@jupyter-widgets/controls",
            "_view_module_version": "1.5.0",
            "_view_name": "HTMLView",
            "description": "",
            "description_tooltip": null,
            "layout": "IPY_MODEL_3a34a49ae09d458eb1765a410fe618d7",
            "placeholder": "​",
            "style": "IPY_MODEL_7c2ae44e9daf434da5717da278929cd2",
            "value": " 8.64k/8.64k [00:00&lt;00:00, 192kB/s]"
          }
        },
        "dea8e9d2d2764df0b6add03ae6450834": {
          "model_module": "@jupyter-widgets/base",
          "model_name": "LayoutModel",
          "model_module_version": "1.2.0",
          "state": {
            "_model_module": "@jupyter-widgets/base",
            "_model_module_version": "1.2.0",
            "_model_name": "LayoutModel",
            "_view_count": null,
            "_view_module": "@jupyter-widgets/base",
            "_view_module_version": "1.2.0",
            "_view_name": "LayoutView",
            "align_content": null,
            "align_items": null,
            "align_self": null,
            "border": null,
            "bottom": null,
            "display": null,
            "flex": null,
            "flex_flow": null,
            "grid_area": null,
            "grid_auto_columns": null,
            "grid_auto_flow": null,
            "grid_auto_rows": null,
            "grid_column": null,
            "grid_gap": null,
            "grid_row": null,
            "grid_template_areas": null,
            "grid_template_columns": null,
            "grid_template_rows": null,
            "height": null,
            "justify_content": null,
            "justify_items": null,
            "left": null,
            "margin": null,
            "max_height": null,
            "max_width": null,
            "min_height": null,
            "min_width": null,
            "object_fit": null,
            "object_position": null,
            "order": null,
            "overflow": null,
            "overflow_x": null,
            "overflow_y": null,
            "padding": null,
            "right": null,
            "top": null,
            "visibility": null,
            "width": null
          }
        },
        "5c788c25f31643c6b8bb3888e2ea83df": {
          "model_module": "@jupyter-widgets/base",
          "model_name": "LayoutModel",
          "model_module_version": "1.2.0",
          "state": {
            "_model_module": "@jupyter-widgets/base",
            "_model_module_version": "1.2.0",
            "_model_name": "LayoutModel",
            "_view_count": null,
            "_view_module": "@jupyter-widgets/base",
            "_view_module_version": "1.2.0",
            "_view_name": "LayoutView",
            "align_content": null,
            "align_items": null,
            "align_self": null,
            "border": null,
            "bottom": null,
            "display": null,
            "flex": null,
            "flex_flow": null,
            "grid_area": null,
            "grid_auto_columns": null,
            "grid_auto_flow": null,
            "grid_auto_rows": null,
            "grid_column": null,
            "grid_gap": null,
            "grid_row": null,
            "grid_template_areas": null,
            "grid_template_columns": null,
            "grid_template_rows": null,
            "height": null,
            "justify_content": null,
            "justify_items": null,
            "left": null,
            "margin": null,
            "max_height": null,
            "max_width": null,
            "min_height": null,
            "min_width": null,
            "object_fit": null,
            "object_position": null,
            "order": null,
            "overflow": null,
            "overflow_x": null,
            "overflow_y": null,
            "padding": null,
            "right": null,
            "top": null,
            "visibility": null,
            "width": null
          }
        },
        "d9575bf33fc641f6b546c77b44caf5ff": {
          "model_module": "@jupyter-widgets/controls",
          "model_name": "DescriptionStyleModel",
          "model_module_version": "1.5.0",
          "state": {
            "_model_module": "@jupyter-widgets/controls",
            "_model_module_version": "1.5.0",
            "_model_name": "DescriptionStyleModel",
            "_view_count": null,
            "_view_module": "@jupyter-widgets/base",
            "_view_module_version": "1.2.0",
            "_view_name": "StyleView",
            "description_width": ""
          }
        },
        "5e833bcd191547c99d3dd24eea312c43": {
          "model_module": "@jupyter-widgets/base",
          "model_name": "LayoutModel",
          "model_module_version": "1.2.0",
          "state": {
            "_model_module": "@jupyter-widgets/base",
            "_model_module_version": "1.2.0",
            "_model_name": "LayoutModel",
            "_view_count": null,
            "_view_module": "@jupyter-widgets/base",
            "_view_module_version": "1.2.0",
            "_view_name": "LayoutView",
            "align_content": null,
            "align_items": null,
            "align_self": null,
            "border": null,
            "bottom": null,
            "display": null,
            "flex": null,
            "flex_flow": null,
            "grid_area": null,
            "grid_auto_columns": null,
            "grid_auto_flow": null,
            "grid_auto_rows": null,
            "grid_column": null,
            "grid_gap": null,
            "grid_row": null,
            "grid_template_areas": null,
            "grid_template_columns": null,
            "grid_template_rows": null,
            "height": null,
            "justify_content": null,
            "justify_items": null,
            "left": null,
            "margin": null,
            "max_height": null,
            "max_width": null,
            "min_height": null,
            "min_width": null,
            "object_fit": null,
            "object_position": null,
            "order": null,
            "overflow": null,
            "overflow_x": null,
            "overflow_y": null,
            "padding": null,
            "right": null,
            "top": null,
            "visibility": null,
            "width": null
          }
        },
        "b6f6970734ba431da1993280d6f1a223": {
          "model_module": "@jupyter-widgets/controls",
          "model_name": "ProgressStyleModel",
          "model_module_version": "1.5.0",
          "state": {
            "_model_module": "@jupyter-widgets/controls",
            "_model_module_version": "1.5.0",
            "_model_name": "ProgressStyleModel",
            "_view_count": null,
            "_view_module": "@jupyter-widgets/base",
            "_view_module_version": "1.2.0",
            "_view_name": "StyleView",
            "bar_color": null,
            "description_width": ""
          }
        },
        "3a34a49ae09d458eb1765a410fe618d7": {
          "model_module": "@jupyter-widgets/base",
          "model_name": "LayoutModel",
          "model_module_version": "1.2.0",
          "state": {
            "_model_module": "@jupyter-widgets/base",
            "_model_module_version": "1.2.0",
            "_model_name": "LayoutModel",
            "_view_count": null,
            "_view_module": "@jupyter-widgets/base",
            "_view_module_version": "1.2.0",
            "_view_name": "LayoutView",
            "align_content": null,
            "align_items": null,
            "align_self": null,
            "border": null,
            "bottom": null,
            "display": null,
            "flex": null,
            "flex_flow": null,
            "grid_area": null,
            "grid_auto_columns": null,
            "grid_auto_flow": null,
            "grid_auto_rows": null,
            "grid_column": null,
            "grid_gap": null,
            "grid_row": null,
            "grid_template_areas": null,
            "grid_template_columns": null,
            "grid_template_rows": null,
            "height": null,
            "justify_content": null,
            "justify_items": null,
            "left": null,
            "margin": null,
            "max_height": null,
            "max_width": null,
            "min_height": null,
            "min_width": null,
            "object_fit": null,
            "object_position": null,
            "order": null,
            "overflow": null,
            "overflow_x": null,
            "overflow_y": null,
            "padding": null,
            "right": null,
            "top": null,
            "visibility": null,
            "width": null
          }
        },
        "7c2ae44e9daf434da5717da278929cd2": {
          "model_module": "@jupyter-widgets/controls",
          "model_name": "DescriptionStyleModel",
          "model_module_version": "1.5.0",
          "state": {
            "_model_module": "@jupyter-widgets/controls",
            "_model_module_version": "1.5.0",
            "_model_name": "DescriptionStyleModel",
            "_view_count": null,
            "_view_module": "@jupyter-widgets/base",
            "_view_module_version": "1.2.0",
            "_view_name": "StyleView",
            "description_width": ""
          }
        },
        "c66cf9facac2460e91443560d52844f3": {
          "model_module": "@jupyter-widgets/controls",
          "model_name": "HBoxModel",
          "model_module_version": "1.5.0",
          "state": {
            "_dom_classes": [],
            "_model_module": "@jupyter-widgets/controls",
            "_model_module_version": "1.5.0",
            "_model_name": "HBoxModel",
            "_view_count": null,
            "_view_module": "@jupyter-widgets/controls",
            "_view_module_version": "1.5.0",
            "_view_name": "HBoxView",
            "box_style": "",
            "children": [
              "IPY_MODEL_80df274021614433879061250e8bc95e",
              "IPY_MODEL_f5b7e34abb294a76a629e4af3d4da8a5",
              "IPY_MODEL_30336c8477d0469484c1818033880575"
            ],
            "layout": "IPY_MODEL_8d0d11125b7145e8ad0b0bde6c6bec42"
          }
        },
        "80df274021614433879061250e8bc95e": {
          "model_module": "@jupyter-widgets/controls",
          "model_name": "HTMLModel",
          "model_module_version": "1.5.0",
          "state": {
            "_dom_classes": [],
            "_model_module": "@jupyter-widgets/controls",
            "_model_module_version": "1.5.0",
            "_model_name": "HTMLModel",
            "_view_count": null,
            "_view_module": "@jupyter-widgets/controls",
            "_view_module_version": "1.5.0",
            "_view_name": "HTMLView",
            "description": "",
            "description_tooltip": null,
            "layout": "IPY_MODEL_41bd5b753d6440b682dab3d6ee3bb8e8",
            "placeholder": "​",
            "style": "IPY_MODEL_50134a7e6a1a4b26accd95379bfb4b25",
            "value": "Downloading readme: 100%"
          }
        },
        "f5b7e34abb294a76a629e4af3d4da8a5": {
          "model_module": "@jupyter-widgets/controls",
          "model_name": "FloatProgressModel",
          "model_module_version": "1.5.0",
          "state": {
            "_dom_classes": [],
            "_model_module": "@jupyter-widgets/controls",
            "_model_module_version": "1.5.0",
            "_model_name": "FloatProgressModel",
            "_view_count": null,
            "_view_module": "@jupyter-widgets/controls",
            "_view_module_version": "1.5.0",
            "_view_name": "ProgressView",
            "bar_style": "success",
            "description": "",
            "description_tooltip": null,
            "layout": "IPY_MODEL_aa31e31010244f02a393af469093829a",
            "max": 11863,
            "min": 0,
            "orientation": "horizontal",
            "style": "IPY_MODEL_de6173458ad5481aa6c93b761aac717a",
            "value": 11863
          }
        },
        "30336c8477d0469484c1818033880575": {
          "model_module": "@jupyter-widgets/controls",
          "model_name": "HTMLModel",
          "model_module_version": "1.5.0",
          "state": {
            "_dom_classes": [],
            "_model_module": "@jupyter-widgets/controls",
            "_model_module_version": "1.5.0",
            "_model_name": "HTMLModel",
            "_view_count": null,
            "_view_module": "@jupyter-widgets/controls",
            "_view_module_version": "1.5.0",
            "_view_name": "HTMLView",
            "description": "",
            "description_tooltip": null,
            "layout": "IPY_MODEL_bd28ab42b7be4441ade29d3512399a41",
            "placeholder": "​",
            "style": "IPY_MODEL_b4f5fc001d754bd99b3d0881fffa82c3",
            "value": " 11.9k/11.9k [00:00&lt;00:00, 175kB/s]"
          }
        },
        "8d0d11125b7145e8ad0b0bde6c6bec42": {
          "model_module": "@jupyter-widgets/base",
          "model_name": "LayoutModel",
          "model_module_version": "1.2.0",
          "state": {
            "_model_module": "@jupyter-widgets/base",
            "_model_module_version": "1.2.0",
            "_model_name": "LayoutModel",
            "_view_count": null,
            "_view_module": "@jupyter-widgets/base",
            "_view_module_version": "1.2.0",
            "_view_name": "LayoutView",
            "align_content": null,
            "align_items": null,
            "align_self": null,
            "border": null,
            "bottom": null,
            "display": null,
            "flex": null,
            "flex_flow": null,
            "grid_area": null,
            "grid_auto_columns": null,
            "grid_auto_flow": null,
            "grid_auto_rows": null,
            "grid_column": null,
            "grid_gap": null,
            "grid_row": null,
            "grid_template_areas": null,
            "grid_template_columns": null,
            "grid_template_rows": null,
            "height": null,
            "justify_content": null,
            "justify_items": null,
            "left": null,
            "margin": null,
            "max_height": null,
            "max_width": null,
            "min_height": null,
            "min_width": null,
            "object_fit": null,
            "object_position": null,
            "order": null,
            "overflow": null,
            "overflow_x": null,
            "overflow_y": null,
            "padding": null,
            "right": null,
            "top": null,
            "visibility": null,
            "width": null
          }
        },
        "41bd5b753d6440b682dab3d6ee3bb8e8": {
          "model_module": "@jupyter-widgets/base",
          "model_name": "LayoutModel",
          "model_module_version": "1.2.0",
          "state": {
            "_model_module": "@jupyter-widgets/base",
            "_model_module_version": "1.2.0",
            "_model_name": "LayoutModel",
            "_view_count": null,
            "_view_module": "@jupyter-widgets/base",
            "_view_module_version": "1.2.0",
            "_view_name": "LayoutView",
            "align_content": null,
            "align_items": null,
            "align_self": null,
            "border": null,
            "bottom": null,
            "display": null,
            "flex": null,
            "flex_flow": null,
            "grid_area": null,
            "grid_auto_columns": null,
            "grid_auto_flow": null,
            "grid_auto_rows": null,
            "grid_column": null,
            "grid_gap": null,
            "grid_row": null,
            "grid_template_areas": null,
            "grid_template_columns": null,
            "grid_template_rows": null,
            "height": null,
            "justify_content": null,
            "justify_items": null,
            "left": null,
            "margin": null,
            "max_height": null,
            "max_width": null,
            "min_height": null,
            "min_width": null,
            "object_fit": null,
            "object_position": null,
            "order": null,
            "overflow": null,
            "overflow_x": null,
            "overflow_y": null,
            "padding": null,
            "right": null,
            "top": null,
            "visibility": null,
            "width": null
          }
        },
        "50134a7e6a1a4b26accd95379bfb4b25": {
          "model_module": "@jupyter-widgets/controls",
          "model_name": "DescriptionStyleModel",
          "model_module_version": "1.5.0",
          "state": {
            "_model_module": "@jupyter-widgets/controls",
            "_model_module_version": "1.5.0",
            "_model_name": "DescriptionStyleModel",
            "_view_count": null,
            "_view_module": "@jupyter-widgets/base",
            "_view_module_version": "1.2.0",
            "_view_name": "StyleView",
            "description_width": ""
          }
        },
        "aa31e31010244f02a393af469093829a": {
          "model_module": "@jupyter-widgets/base",
          "model_name": "LayoutModel",
          "model_module_version": "1.2.0",
          "state": {
            "_model_module": "@jupyter-widgets/base",
            "_model_module_version": "1.2.0",
            "_model_name": "LayoutModel",
            "_view_count": null,
            "_view_module": "@jupyter-widgets/base",
            "_view_module_version": "1.2.0",
            "_view_name": "LayoutView",
            "align_content": null,
            "align_items": null,
            "align_self": null,
            "border": null,
            "bottom": null,
            "display": null,
            "flex": null,
            "flex_flow": null,
            "grid_area": null,
            "grid_auto_columns": null,
            "grid_auto_flow": null,
            "grid_auto_rows": null,
            "grid_column": null,
            "grid_gap": null,
            "grid_row": null,
            "grid_template_areas": null,
            "grid_template_columns": null,
            "grid_template_rows": null,
            "height": null,
            "justify_content": null,
            "justify_items": null,
            "left": null,
            "margin": null,
            "max_height": null,
            "max_width": null,
            "min_height": null,
            "min_width": null,
            "object_fit": null,
            "object_position": null,
            "order": null,
            "overflow": null,
            "overflow_x": null,
            "overflow_y": null,
            "padding": null,
            "right": null,
            "top": null,
            "visibility": null,
            "width": null
          }
        },
        "de6173458ad5481aa6c93b761aac717a": {
          "model_module": "@jupyter-widgets/controls",
          "model_name": "ProgressStyleModel",
          "model_module_version": "1.5.0",
          "state": {
            "_model_module": "@jupyter-widgets/controls",
            "_model_module_version": "1.5.0",
            "_model_name": "ProgressStyleModel",
            "_view_count": null,
            "_view_module": "@jupyter-widgets/base",
            "_view_module_version": "1.2.0",
            "_view_name": "StyleView",
            "bar_color": null,
            "description_width": ""
          }
        },
        "bd28ab42b7be4441ade29d3512399a41": {
          "model_module": "@jupyter-widgets/base",
          "model_name": "LayoutModel",
          "model_module_version": "1.2.0",
          "state": {
            "_model_module": "@jupyter-widgets/base",
            "_model_module_version": "1.2.0",
            "_model_name": "LayoutModel",
            "_view_count": null,
            "_view_module": "@jupyter-widgets/base",
            "_view_module_version": "1.2.0",
            "_view_name": "LayoutView",
            "align_content": null,
            "align_items": null,
            "align_self": null,
            "border": null,
            "bottom": null,
            "display": null,
            "flex": null,
            "flex_flow": null,
            "grid_area": null,
            "grid_auto_columns": null,
            "grid_auto_flow": null,
            "grid_auto_rows": null,
            "grid_column": null,
            "grid_gap": null,
            "grid_row": null,
            "grid_template_areas": null,
            "grid_template_columns": null,
            "grid_template_rows": null,
            "height": null,
            "justify_content": null,
            "justify_items": null,
            "left": null,
            "margin": null,
            "max_height": null,
            "max_width": null,
            "min_height": null,
            "min_width": null,
            "object_fit": null,
            "object_position": null,
            "order": null,
            "overflow": null,
            "overflow_x": null,
            "overflow_y": null,
            "padding": null,
            "right": null,
            "top": null,
            "visibility": null,
            "width": null
          }
        },
        "b4f5fc001d754bd99b3d0881fffa82c3": {
          "model_module": "@jupyter-widgets/controls",
          "model_name": "DescriptionStyleModel",
          "model_module_version": "1.5.0",
          "state": {
            "_model_module": "@jupyter-widgets/controls",
            "_model_module_version": "1.5.0",
            "_model_name": "DescriptionStyleModel",
            "_view_count": null,
            "_view_module": "@jupyter-widgets/base",
            "_view_module_version": "1.2.0",
            "_view_name": "StyleView",
            "description_width": ""
          }
        },
        "ee7b1c78998d412885b865b9b7583374": {
          "model_module": "@jupyter-widgets/controls",
          "model_name": "HBoxModel",
          "model_module_version": "1.5.0",
          "state": {
            "_dom_classes": [],
            "_model_module": "@jupyter-widgets/controls",
            "_model_module_version": "1.5.0",
            "_model_name": "HBoxModel",
            "_view_count": null,
            "_view_module": "@jupyter-widgets/controls",
            "_view_module_version": "1.5.0",
            "_view_name": "HBoxView",
            "box_style": "",
            "children": [
              "IPY_MODEL_c6b49dedc47c4d8f86ccdd1f1e92a86b",
              "IPY_MODEL_1720eca2fc664523a41c53471021c925",
              "IPY_MODEL_4456b688848e4fb68aa5abbc2eacc4a5"
            ],
            "layout": "IPY_MODEL_1ab59e0663684f6d947604a1561dabfc"
          }
        },
        "c6b49dedc47c4d8f86ccdd1f1e92a86b": {
          "model_module": "@jupyter-widgets/controls",
          "model_name": "HTMLModel",
          "model_module_version": "1.5.0",
          "state": {
            "_dom_classes": [],
            "_model_module": "@jupyter-widgets/controls",
            "_model_module_version": "1.5.0",
            "_model_name": "HTMLModel",
            "_view_count": null,
            "_view_module": "@jupyter-widgets/controls",
            "_view_module_version": "1.5.0",
            "_view_name": "HTMLView",
            "description": "",
            "description_tooltip": null,
            "layout": "IPY_MODEL_d3962c979a1e4b258d005188e5ec5736",
            "placeholder": "​",
            "style": "IPY_MODEL_0448ef870b364e399bbc3e0c9fa84175",
            "value": "Downloading data: 100%"
          }
        },
        "1720eca2fc664523a41c53471021c925": {
          "model_module": "@jupyter-widgets/controls",
          "model_name": "FloatProgressModel",
          "model_module_version": "1.5.0",
          "state": {
            "_dom_classes": [],
            "_model_module": "@jupyter-widgets/controls",
            "_model_module_version": "1.5.0",
            "_model_name": "FloatProgressModel",
            "_view_count": null,
            "_view_module": "@jupyter-widgets/controls",
            "_view_module_version": "1.5.0",
            "_view_name": "ProgressView",
            "bar_style": "success",
            "description": "",
            "description_tooltip": null,
            "layout": "IPY_MODEL_06dc91e3d3764980b7897c5bbd2affdd",
            "max": 27147920,
            "min": 0,
            "orientation": "horizontal",
            "style": "IPY_MODEL_f75ad6c5abec418c95b0fdd69d17e74d",
            "value": 27147920
          }
        },
        "4456b688848e4fb68aa5abbc2eacc4a5": {
          "model_module": "@jupyter-widgets/controls",
          "model_name": "HTMLModel",
          "model_module_version": "1.5.0",
          "state": {
            "_dom_classes": [],
            "_model_module": "@jupyter-widgets/controls",
            "_model_module_version": "1.5.0",
            "_model_name": "HTMLModel",
            "_view_count": null,
            "_view_module": "@jupyter-widgets/controls",
            "_view_module_version": "1.5.0",
            "_view_name": "HTMLView",
            "description": "",
            "description_tooltip": null,
            "layout": "IPY_MODEL_c09f1308b8714dacb87e2d1b0eb5cc00",
            "placeholder": "​",
            "style": "IPY_MODEL_0d549efd8ee145599c7692b3c003ee54",
            "value": " 27.1M/27.1M [00:01&lt;00:00, 18.7MB/s]"
          }
        },
        "1ab59e0663684f6d947604a1561dabfc": {
          "model_module": "@jupyter-widgets/base",
          "model_name": "LayoutModel",
          "model_module_version": "1.2.0",
          "state": {
            "_model_module": "@jupyter-widgets/base",
            "_model_module_version": "1.2.0",
            "_model_name": "LayoutModel",
            "_view_count": null,
            "_view_module": "@jupyter-widgets/base",
            "_view_module_version": "1.2.0",
            "_view_name": "LayoutView",
            "align_content": null,
            "align_items": null,
            "align_self": null,
            "border": null,
            "bottom": null,
            "display": null,
            "flex": null,
            "flex_flow": null,
            "grid_area": null,
            "grid_auto_columns": null,
            "grid_auto_flow": null,
            "grid_auto_rows": null,
            "grid_column": null,
            "grid_gap": null,
            "grid_row": null,
            "grid_template_areas": null,
            "grid_template_columns": null,
            "grid_template_rows": null,
            "height": null,
            "justify_content": null,
            "justify_items": null,
            "left": null,
            "margin": null,
            "max_height": null,
            "max_width": null,
            "min_height": null,
            "min_width": null,
            "object_fit": null,
            "object_position": null,
            "order": null,
            "overflow": null,
            "overflow_x": null,
            "overflow_y": null,
            "padding": null,
            "right": null,
            "top": null,
            "visibility": null,
            "width": null
          }
        },
        "d3962c979a1e4b258d005188e5ec5736": {
          "model_module": "@jupyter-widgets/base",
          "model_name": "LayoutModel",
          "model_module_version": "1.2.0",
          "state": {
            "_model_module": "@jupyter-widgets/base",
            "_model_module_version": "1.2.0",
            "_model_name": "LayoutModel",
            "_view_count": null,
            "_view_module": "@jupyter-widgets/base",
            "_view_module_version": "1.2.0",
            "_view_name": "LayoutView",
            "align_content": null,
            "align_items": null,
            "align_self": null,
            "border": null,
            "bottom": null,
            "display": null,
            "flex": null,
            "flex_flow": null,
            "grid_area": null,
            "grid_auto_columns": null,
            "grid_auto_flow": null,
            "grid_auto_rows": null,
            "grid_column": null,
            "grid_gap": null,
            "grid_row": null,
            "grid_template_areas": null,
            "grid_template_columns": null,
            "grid_template_rows": null,
            "height": null,
            "justify_content": null,
            "justify_items": null,
            "left": null,
            "margin": null,
            "max_height": null,
            "max_width": null,
            "min_height": null,
            "min_width": null,
            "object_fit": null,
            "object_position": null,
            "order": null,
            "overflow": null,
            "overflow_x": null,
            "overflow_y": null,
            "padding": null,
            "right": null,
            "top": null,
            "visibility": null,
            "width": null
          }
        },
        "0448ef870b364e399bbc3e0c9fa84175": {
          "model_module": "@jupyter-widgets/controls",
          "model_name": "DescriptionStyleModel",
          "model_module_version": "1.5.0",
          "state": {
            "_model_module": "@jupyter-widgets/controls",
            "_model_module_version": "1.5.0",
            "_model_name": "DescriptionStyleModel",
            "_view_count": null,
            "_view_module": "@jupyter-widgets/base",
            "_view_module_version": "1.2.0",
            "_view_name": "StyleView",
            "description_width": ""
          }
        },
        "06dc91e3d3764980b7897c5bbd2affdd": {
          "model_module": "@jupyter-widgets/base",
          "model_name": "LayoutModel",
          "model_module_version": "1.2.0",
          "state": {
            "_model_module": "@jupyter-widgets/base",
            "_model_module_version": "1.2.0",
            "_model_name": "LayoutModel",
            "_view_count": null,
            "_view_module": "@jupyter-widgets/base",
            "_view_module_version": "1.2.0",
            "_view_name": "LayoutView",
            "align_content": null,
            "align_items": null,
            "align_self": null,
            "border": null,
            "bottom": null,
            "display": null,
            "flex": null,
            "flex_flow": null,
            "grid_area": null,
            "grid_auto_columns": null,
            "grid_auto_flow": null,
            "grid_auto_rows": null,
            "grid_column": null,
            "grid_gap": null,
            "grid_row": null,
            "grid_template_areas": null,
            "grid_template_columns": null,
            "grid_template_rows": null,
            "height": null,
            "justify_content": null,
            "justify_items": null,
            "left": null,
            "margin": null,
            "max_height": null,
            "max_width": null,
            "min_height": null,
            "min_width": null,
            "object_fit": null,
            "object_position": null,
            "order": null,
            "overflow": null,
            "overflow_x": null,
            "overflow_y": null,
            "padding": null,
            "right": null,
            "top": null,
            "visibility": null,
            "width": null
          }
        },
        "f75ad6c5abec418c95b0fdd69d17e74d": {
          "model_module": "@jupyter-widgets/controls",
          "model_name": "ProgressStyleModel",
          "model_module_version": "1.5.0",
          "state": {
            "_model_module": "@jupyter-widgets/controls",
            "_model_module_version": "1.5.0",
            "_model_name": "ProgressStyleModel",
            "_view_count": null,
            "_view_module": "@jupyter-widgets/base",
            "_view_module_version": "1.2.0",
            "_view_name": "StyleView",
            "bar_color": null,
            "description_width": ""
          }
        },
        "c09f1308b8714dacb87e2d1b0eb5cc00": {
          "model_module": "@jupyter-widgets/base",
          "model_name": "LayoutModel",
          "model_module_version": "1.2.0",
          "state": {
            "_model_module": "@jupyter-widgets/base",
            "_model_module_version": "1.2.0",
            "_model_name": "LayoutModel",
            "_view_count": null,
            "_view_module": "@jupyter-widgets/base",
            "_view_module_version": "1.2.0",
            "_view_name": "LayoutView",
            "align_content": null,
            "align_items": null,
            "align_self": null,
            "border": null,
            "bottom": null,
            "display": null,
            "flex": null,
            "flex_flow": null,
            "grid_area": null,
            "grid_auto_columns": null,
            "grid_auto_flow": null,
            "grid_auto_rows": null,
            "grid_column": null,
            "grid_gap": null,
            "grid_row": null,
            "grid_template_areas": null,
            "grid_template_columns": null,
            "grid_template_rows": null,
            "height": null,
            "justify_content": null,
            "justify_items": null,
            "left": null,
            "margin": null,
            "max_height": null,
            "max_width": null,
            "min_height": null,
            "min_width": null,
            "object_fit": null,
            "object_position": null,
            "order": null,
            "overflow": null,
            "overflow_x": null,
            "overflow_y": null,
            "padding": null,
            "right": null,
            "top": null,
            "visibility": null,
            "width": null
          }
        },
        "0d549efd8ee145599c7692b3c003ee54": {
          "model_module": "@jupyter-widgets/controls",
          "model_name": "DescriptionStyleModel",
          "model_module_version": "1.5.0",
          "state": {
            "_model_module": "@jupyter-widgets/controls",
            "_model_module_version": "1.5.0",
            "_model_name": "DescriptionStyleModel",
            "_view_count": null,
            "_view_module": "@jupyter-widgets/base",
            "_view_module_version": "1.2.0",
            "_view_name": "StyleView",
            "description_width": ""
          }
        },
        "6ea43fae9d3942ed861dfbd132978411": {
          "model_module": "@jupyter-widgets/controls",
          "model_name": "HBoxModel",
          "model_module_version": "1.5.0",
          "state": {
            "_dom_classes": [],
            "_model_module": "@jupyter-widgets/controls",
            "_model_module_version": "1.5.0",
            "_model_name": "HBoxModel",
            "_view_count": null,
            "_view_module": "@jupyter-widgets/controls",
            "_view_module_version": "1.5.0",
            "_view_name": "HBoxView",
            "box_style": "",
            "children": [
              "IPY_MODEL_88e468b0766a4df1b6763d3bd658e8fa",
              "IPY_MODEL_ec7c51d66cfd43459743bdeca868ab20",
              "IPY_MODEL_a6c96f3a0652419da5ed9155b705494c"
            ],
            "layout": "IPY_MODEL_23ff7d45baa04adba7b1967997e9cea4"
          }
        },
        "88e468b0766a4df1b6763d3bd658e8fa": {
          "model_module": "@jupyter-widgets/controls",
          "model_name": "HTMLModel",
          "model_module_version": "1.5.0",
          "state": {
            "_dom_classes": [],
            "_model_module": "@jupyter-widgets/controls",
            "_model_module_version": "1.5.0",
            "_model_name": "HTMLModel",
            "_view_count": null,
            "_view_module": "@jupyter-widgets/controls",
            "_view_module_version": "1.5.0",
            "_view_name": "HTMLView",
            "description": "",
            "description_tooltip": null,
            "layout": "IPY_MODEL_6f97e3abc16e4e81a9710824ca20a4f0",
            "placeholder": "​",
            "style": "IPY_MODEL_153bcd88c8b443628d1118b0435a0df4",
            "value": "Generating train split: 100%"
          }
        },
        "ec7c51d66cfd43459743bdeca868ab20": {
          "model_module": "@jupyter-widgets/controls",
          "model_name": "FloatProgressModel",
          "model_module_version": "1.5.0",
          "state": {
            "_dom_classes": [],
            "_model_module": "@jupyter-widgets/controls",
            "_model_module_version": "1.5.0",
            "_model_name": "FloatProgressModel",
            "_view_count": null,
            "_view_module": "@jupyter-widgets/controls",
            "_view_module_version": "1.5.0",
            "_view_name": "ProgressView",
            "bar_style": "success",
            "description": "",
            "description_tooltip": null,
            "layout": "IPY_MODEL_6ec84ef787c04411aab0b25c0ac036f8",
            "max": 1020868,
            "min": 0,
            "orientation": "horizontal",
            "style": "IPY_MODEL_6a5d60f43c10456b8dbe113eacb142cf",
            "value": 1020868
          }
        },
        "a6c96f3a0652419da5ed9155b705494c": {
          "model_module": "@jupyter-widgets/controls",
          "model_name": "HTMLModel",
          "model_module_version": "1.5.0",
          "state": {
            "_dom_classes": [],
            "_model_module": "@jupyter-widgets/controls",
            "_model_module_version": "1.5.0",
            "_model_name": "HTMLModel",
            "_view_count": null,
            "_view_module": "@jupyter-widgets/controls",
            "_view_module_version": "1.5.0",
            "_view_name": "HTMLView",
            "description": "",
            "description_tooltip": null,
            "layout": "IPY_MODEL_4a6382932fe84dd2bc4438c150cacfd6",
            "placeholder": "​",
            "style": "IPY_MODEL_561b943aca28449c826ee3b90313d952",
            "value": " 1020868/1020868 [01:12&lt;00:00, 18909.27 examples/s]"
          }
        },
        "23ff7d45baa04adba7b1967997e9cea4": {
          "model_module": "@jupyter-widgets/base",
          "model_name": "LayoutModel",
          "model_module_version": "1.2.0",
          "state": {
            "_model_module": "@jupyter-widgets/base",
            "_model_module_version": "1.2.0",
            "_model_name": "LayoutModel",
            "_view_count": null,
            "_view_module": "@jupyter-widgets/base",
            "_view_module_version": "1.2.0",
            "_view_name": "LayoutView",
            "align_content": null,
            "align_items": null,
            "align_self": null,
            "border": null,
            "bottom": null,
            "display": null,
            "flex": null,
            "flex_flow": null,
            "grid_area": null,
            "grid_auto_columns": null,
            "grid_auto_flow": null,
            "grid_auto_rows": null,
            "grid_column": null,
            "grid_gap": null,
            "grid_row": null,
            "grid_template_areas": null,
            "grid_template_columns": null,
            "grid_template_rows": null,
            "height": null,
            "justify_content": null,
            "justify_items": null,
            "left": null,
            "margin": null,
            "max_height": null,
            "max_width": null,
            "min_height": null,
            "min_width": null,
            "object_fit": null,
            "object_position": null,
            "order": null,
            "overflow": null,
            "overflow_x": null,
            "overflow_y": null,
            "padding": null,
            "right": null,
            "top": null,
            "visibility": null,
            "width": null
          }
        },
        "6f97e3abc16e4e81a9710824ca20a4f0": {
          "model_module": "@jupyter-widgets/base",
          "model_name": "LayoutModel",
          "model_module_version": "1.2.0",
          "state": {
            "_model_module": "@jupyter-widgets/base",
            "_model_module_version": "1.2.0",
            "_model_name": "LayoutModel",
            "_view_count": null,
            "_view_module": "@jupyter-widgets/base",
            "_view_module_version": "1.2.0",
            "_view_name": "LayoutView",
            "align_content": null,
            "align_items": null,
            "align_self": null,
            "border": null,
            "bottom": null,
            "display": null,
            "flex": null,
            "flex_flow": null,
            "grid_area": null,
            "grid_auto_columns": null,
            "grid_auto_flow": null,
            "grid_auto_rows": null,
            "grid_column": null,
            "grid_gap": null,
            "grid_row": null,
            "grid_template_areas": null,
            "grid_template_columns": null,
            "grid_template_rows": null,
            "height": null,
            "justify_content": null,
            "justify_items": null,
            "left": null,
            "margin": null,
            "max_height": null,
            "max_width": null,
            "min_height": null,
            "min_width": null,
            "object_fit": null,
            "object_position": null,
            "order": null,
            "overflow": null,
            "overflow_x": null,
            "overflow_y": null,
            "padding": null,
            "right": null,
            "top": null,
            "visibility": null,
            "width": null
          }
        },
        "153bcd88c8b443628d1118b0435a0df4": {
          "model_module": "@jupyter-widgets/controls",
          "model_name": "DescriptionStyleModel",
          "model_module_version": "1.5.0",
          "state": {
            "_model_module": "@jupyter-widgets/controls",
            "_model_module_version": "1.5.0",
            "_model_name": "DescriptionStyleModel",
            "_view_count": null,
            "_view_module": "@jupyter-widgets/base",
            "_view_module_version": "1.2.0",
            "_view_name": "StyleView",
            "description_width": ""
          }
        },
        "6ec84ef787c04411aab0b25c0ac036f8": {
          "model_module": "@jupyter-widgets/base",
          "model_name": "LayoutModel",
          "model_module_version": "1.2.0",
          "state": {
            "_model_module": "@jupyter-widgets/base",
            "_model_module_version": "1.2.0",
            "_model_name": "LayoutModel",
            "_view_count": null,
            "_view_module": "@jupyter-widgets/base",
            "_view_module_version": "1.2.0",
            "_view_name": "LayoutView",
            "align_content": null,
            "align_items": null,
            "align_self": null,
            "border": null,
            "bottom": null,
            "display": null,
            "flex": null,
            "flex_flow": null,
            "grid_area": null,
            "grid_auto_columns": null,
            "grid_auto_flow": null,
            "grid_auto_rows": null,
            "grid_column": null,
            "grid_gap": null,
            "grid_row": null,
            "grid_template_areas": null,
            "grid_template_columns": null,
            "grid_template_rows": null,
            "height": null,
            "justify_content": null,
            "justify_items": null,
            "left": null,
            "margin": null,
            "max_height": null,
            "max_width": null,
            "min_height": null,
            "min_width": null,
            "object_fit": null,
            "object_position": null,
            "order": null,
            "overflow": null,
            "overflow_x": null,
            "overflow_y": null,
            "padding": null,
            "right": null,
            "top": null,
            "visibility": null,
            "width": null
          }
        },
        "6a5d60f43c10456b8dbe113eacb142cf": {
          "model_module": "@jupyter-widgets/controls",
          "model_name": "ProgressStyleModel",
          "model_module_version": "1.5.0",
          "state": {
            "_model_module": "@jupyter-widgets/controls",
            "_model_module_version": "1.5.0",
            "_model_name": "ProgressStyleModel",
            "_view_count": null,
            "_view_module": "@jupyter-widgets/base",
            "_view_module_version": "1.2.0",
            "_view_name": "StyleView",
            "bar_color": null,
            "description_width": ""
          }
        },
        "4a6382932fe84dd2bc4438c150cacfd6": {
          "model_module": "@jupyter-widgets/base",
          "model_name": "LayoutModel",
          "model_module_version": "1.2.0",
          "state": {
            "_model_module": "@jupyter-widgets/base",
            "_model_module_version": "1.2.0",
            "_model_name": "LayoutModel",
            "_view_count": null,
            "_view_module": "@jupyter-widgets/base",
            "_view_module_version": "1.2.0",
            "_view_name": "LayoutView",
            "align_content": null,
            "align_items": null,
            "align_self": null,
            "border": null,
            "bottom": null,
            "display": null,
            "flex": null,
            "flex_flow": null,
            "grid_area": null,
            "grid_auto_columns": null,
            "grid_auto_flow": null,
            "grid_auto_rows": null,
            "grid_column": null,
            "grid_gap": null,
            "grid_row": null,
            "grid_template_areas": null,
            "grid_template_columns": null,
            "grid_template_rows": null,
            "height": null,
            "justify_content": null,
            "justify_items": null,
            "left": null,
            "margin": null,
            "max_height": null,
            "max_width": null,
            "min_height": null,
            "min_width": null,
            "object_fit": null,
            "object_position": null,
            "order": null,
            "overflow": null,
            "overflow_x": null,
            "overflow_y": null,
            "padding": null,
            "right": null,
            "top": null,
            "visibility": null,
            "width": null
          }
        },
        "561b943aca28449c826ee3b90313d952": {
          "model_module": "@jupyter-widgets/controls",
          "model_name": "DescriptionStyleModel",
          "model_module_version": "1.5.0",
          "state": {
            "_model_module": "@jupyter-widgets/controls",
            "_model_module_version": "1.5.0",
            "_model_name": "DescriptionStyleModel",
            "_view_count": null,
            "_view_module": "@jupyter-widgets/base",
            "_view_module_version": "1.2.0",
            "_view_name": "StyleView",
            "description_width": ""
          }
        },
        "859f7b661ae54af2bf9afbf00ef4e4da": {
          "model_module": "@jupyter-widgets/controls",
          "model_name": "HBoxModel",
          "model_module_version": "1.5.0",
          "state": {
            "_dom_classes": [],
            "_model_module": "@jupyter-widgets/controls",
            "_model_module_version": "1.5.0",
            "_model_name": "HBoxModel",
            "_view_count": null,
            "_view_module": "@jupyter-widgets/controls",
            "_view_module_version": "1.5.0",
            "_view_name": "HBoxView",
            "box_style": "",
            "children": [
              "IPY_MODEL_e404073519ae4b66aac86942e587f2a1",
              "IPY_MODEL_611819ec01af4e2ca8e59bdf6e3d5858",
              "IPY_MODEL_7647cca864854c41b237cb0cc41447be"
            ],
            "layout": "IPY_MODEL_c4a06d1c806844c2851bc715bd2f77b9"
          }
        },
        "e404073519ae4b66aac86942e587f2a1": {
          "model_module": "@jupyter-widgets/controls",
          "model_name": "HTMLModel",
          "model_module_version": "1.5.0",
          "state": {
            "_dom_classes": [],
            "_model_module": "@jupyter-widgets/controls",
            "_model_module_version": "1.5.0",
            "_model_name": "HTMLModel",
            "_view_count": null,
            "_view_module": "@jupyter-widgets/controls",
            "_view_module_version": "1.5.0",
            "_view_name": "HTMLView",
            "description": "",
            "description_tooltip": null,
            "layout": "IPY_MODEL_0a8a21e52fa648739497e867d46c4850",
            "placeholder": "​",
            "style": "IPY_MODEL_c38440a8372d41c580509a7776da776b",
            "value": "Filter: 100%"
          }
        },
        "611819ec01af4e2ca8e59bdf6e3d5858": {
          "model_module": "@jupyter-widgets/controls",
          "model_name": "FloatProgressModel",
          "model_module_version": "1.5.0",
          "state": {
            "_dom_classes": [],
            "_model_module": "@jupyter-widgets/controls",
            "_model_module_version": "1.5.0",
            "_model_name": "FloatProgressModel",
            "_view_count": null,
            "_view_module": "@jupyter-widgets/controls",
            "_view_module_version": "1.5.0",
            "_view_name": "ProgressView",
            "bar_style": "success",
            "description": "",
            "description_tooltip": null,
            "layout": "IPY_MODEL_9b26e95ea1f745008a79a83d4e523051",
            "max": 1020868,
            "min": 0,
            "orientation": "horizontal",
            "style": "IPY_MODEL_d9c0fb9533cd448f948ac77eee265f27",
            "value": 1020868
          }
        },
        "7647cca864854c41b237cb0cc41447be": {
          "model_module": "@jupyter-widgets/controls",
          "model_name": "HTMLModel",
          "model_module_version": "1.5.0",
          "state": {
            "_dom_classes": [],
            "_model_module": "@jupyter-widgets/controls",
            "_model_module_version": "1.5.0",
            "_model_name": "HTMLModel",
            "_view_count": null,
            "_view_module": "@jupyter-widgets/controls",
            "_view_module_version": "1.5.0",
            "_view_name": "HTMLView",
            "description": "",
            "description_tooltip": null,
            "layout": "IPY_MODEL_8a7d8e035cfd4ec6ba763c2d535433b2",
            "placeholder": "​",
            "style": "IPY_MODEL_34a60b2cc8a649378c6f4d2aa49dbc52",
            "value": " 1020868/1020868 [00:14&lt;00:00, 54425.22 examples/s]"
          }
        },
        "c4a06d1c806844c2851bc715bd2f77b9": {
          "model_module": "@jupyter-widgets/base",
          "model_name": "LayoutModel",
          "model_module_version": "1.2.0",
          "state": {
            "_model_module": "@jupyter-widgets/base",
            "_model_module_version": "1.2.0",
            "_model_name": "LayoutModel",
            "_view_count": null,
            "_view_module": "@jupyter-widgets/base",
            "_view_module_version": "1.2.0",
            "_view_name": "LayoutView",
            "align_content": null,
            "align_items": null,
            "align_self": null,
            "border": null,
            "bottom": null,
            "display": null,
            "flex": null,
            "flex_flow": null,
            "grid_area": null,
            "grid_auto_columns": null,
            "grid_auto_flow": null,
            "grid_auto_rows": null,
            "grid_column": null,
            "grid_gap": null,
            "grid_row": null,
            "grid_template_areas": null,
            "grid_template_columns": null,
            "grid_template_rows": null,
            "height": null,
            "justify_content": null,
            "justify_items": null,
            "left": null,
            "margin": null,
            "max_height": null,
            "max_width": null,
            "min_height": null,
            "min_width": null,
            "object_fit": null,
            "object_position": null,
            "order": null,
            "overflow": null,
            "overflow_x": null,
            "overflow_y": null,
            "padding": null,
            "right": null,
            "top": null,
            "visibility": null,
            "width": null
          }
        },
        "0a8a21e52fa648739497e867d46c4850": {
          "model_module": "@jupyter-widgets/base",
          "model_name": "LayoutModel",
          "model_module_version": "1.2.0",
          "state": {
            "_model_module": "@jupyter-widgets/base",
            "_model_module_version": "1.2.0",
            "_model_name": "LayoutModel",
            "_view_count": null,
            "_view_module": "@jupyter-widgets/base",
            "_view_module_version": "1.2.0",
            "_view_name": "LayoutView",
            "align_content": null,
            "align_items": null,
            "align_self": null,
            "border": null,
            "bottom": null,
            "display": null,
            "flex": null,
            "flex_flow": null,
            "grid_area": null,
            "grid_auto_columns": null,
            "grid_auto_flow": null,
            "grid_auto_rows": null,
            "grid_column": null,
            "grid_gap": null,
            "grid_row": null,
            "grid_template_areas": null,
            "grid_template_columns": null,
            "grid_template_rows": null,
            "height": null,
            "justify_content": null,
            "justify_items": null,
            "left": null,
            "margin": null,
            "max_height": null,
            "max_width": null,
            "min_height": null,
            "min_width": null,
            "object_fit": null,
            "object_position": null,
            "order": null,
            "overflow": null,
            "overflow_x": null,
            "overflow_y": null,
            "padding": null,
            "right": null,
            "top": null,
            "visibility": null,
            "width": null
          }
        },
        "c38440a8372d41c580509a7776da776b": {
          "model_module": "@jupyter-widgets/controls",
          "model_name": "DescriptionStyleModel",
          "model_module_version": "1.5.0",
          "state": {
            "_model_module": "@jupyter-widgets/controls",
            "_model_module_version": "1.5.0",
            "_model_name": "DescriptionStyleModel",
            "_view_count": null,
            "_view_module": "@jupyter-widgets/base",
            "_view_module_version": "1.2.0",
            "_view_name": "StyleView",
            "description_width": ""
          }
        },
        "9b26e95ea1f745008a79a83d4e523051": {
          "model_module": "@jupyter-widgets/base",
          "model_name": "LayoutModel",
          "model_module_version": "1.2.0",
          "state": {
            "_model_module": "@jupyter-widgets/base",
            "_model_module_version": "1.2.0",
            "_model_name": "LayoutModel",
            "_view_count": null,
            "_view_module": "@jupyter-widgets/base",
            "_view_module_version": "1.2.0",
            "_view_name": "LayoutView",
            "align_content": null,
            "align_items": null,
            "align_self": null,
            "border": null,
            "bottom": null,
            "display": null,
            "flex": null,
            "flex_flow": null,
            "grid_area": null,
            "grid_auto_columns": null,
            "grid_auto_flow": null,
            "grid_auto_rows": null,
            "grid_column": null,
            "grid_gap": null,
            "grid_row": null,
            "grid_template_areas": null,
            "grid_template_columns": null,
            "grid_template_rows": null,
            "height": null,
            "justify_content": null,
            "justify_items": null,
            "left": null,
            "margin": null,
            "max_height": null,
            "max_width": null,
            "min_height": null,
            "min_width": null,
            "object_fit": null,
            "object_position": null,
            "order": null,
            "overflow": null,
            "overflow_x": null,
            "overflow_y": null,
            "padding": null,
            "right": null,
            "top": null,
            "visibility": null,
            "width": null
          }
        },
        "d9c0fb9533cd448f948ac77eee265f27": {
          "model_module": "@jupyter-widgets/controls",
          "model_name": "ProgressStyleModel",
          "model_module_version": "1.5.0",
          "state": {
            "_model_module": "@jupyter-widgets/controls",
            "_model_module_version": "1.5.0",
            "_model_name": "ProgressStyleModel",
            "_view_count": null,
            "_view_module": "@jupyter-widgets/base",
            "_view_module_version": "1.2.0",
            "_view_name": "StyleView",
            "bar_color": null,
            "description_width": ""
          }
        },
        "8a7d8e035cfd4ec6ba763c2d535433b2": {
          "model_module": "@jupyter-widgets/base",
          "model_name": "LayoutModel",
          "model_module_version": "1.2.0",
          "state": {
            "_model_module": "@jupyter-widgets/base",
            "_model_module_version": "1.2.0",
            "_model_name": "LayoutModel",
            "_view_count": null,
            "_view_module": "@jupyter-widgets/base",
            "_view_module_version": "1.2.0",
            "_view_name": "LayoutView",
            "align_content": null,
            "align_items": null,
            "align_self": null,
            "border": null,
            "bottom": null,
            "display": null,
            "flex": null,
            "flex_flow": null,
            "grid_area": null,
            "grid_auto_columns": null,
            "grid_auto_flow": null,
            "grid_auto_rows": null,
            "grid_column": null,
            "grid_gap": null,
            "grid_row": null,
            "grid_template_areas": null,
            "grid_template_columns": null,
            "grid_template_rows": null,
            "height": null,
            "justify_content": null,
            "justify_items": null,
            "left": null,
            "margin": null,
            "max_height": null,
            "max_width": null,
            "min_height": null,
            "min_width": null,
            "object_fit": null,
            "object_position": null,
            "order": null,
            "overflow": null,
            "overflow_x": null,
            "overflow_y": null,
            "padding": null,
            "right": null,
            "top": null,
            "visibility": null,
            "width": null
          }
        },
        "34a60b2cc8a649378c6f4d2aa49dbc52": {
          "model_module": "@jupyter-widgets/controls",
          "model_name": "DescriptionStyleModel",
          "model_module_version": "1.5.0",
          "state": {
            "_model_module": "@jupyter-widgets/controls",
            "_model_module_version": "1.5.0",
            "_model_name": "DescriptionStyleModel",
            "_view_count": null,
            "_view_module": "@jupyter-widgets/base",
            "_view_module_version": "1.2.0",
            "_view_name": "StyleView",
            "description_width": ""
          }
        }
      }
    }
  },
  "nbformat": 4,
  "nbformat_minor": 0
}